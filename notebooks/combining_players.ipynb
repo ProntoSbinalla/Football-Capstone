{
 "cells": [
  {
   "cell_type": "markdown",
   "id": "e74cc1ac",
   "metadata": {},
   "source": [
    "# Combining All Leagues Into a Single Dataset"
   ]
  },
  {
   "cell_type": "markdown",
   "id": "bc318e65",
   "metadata": {},
   "source": [
    "## Importing Libraries"
   ]
  },
  {
   "cell_type": "code",
   "execution_count": 1,
   "id": "31520d79",
   "metadata": {},
   "outputs": [],
   "source": [
    "import pandas as pd\n",
    "import os"
   ]
  },
  {
   "cell_type": "markdown",
   "id": "4e5d2f2c",
   "metadata": {},
   "source": [
    "## Defining Directory and File Names"
   ]
  },
  {
   "cell_type": "code",
   "execution_count": 2,
   "id": "279d0904",
   "metadata": {},
   "outputs": [],
   "source": [
    "data_dir = \"../data/raw\"\n",
    "\n",
    "files = [\n",
    "    \"premier_league_players.csv\",\n",
    "    \"serie_a_players.csv\",\n",
    "    \"la_liga_players.csv\",\n",
    "    \"bundesliga_players.csv\",\n",
    "    \"ligue_1_players.csv\"\n",
    "]\n",
    "league_labels = {\n",
    "    \"premier_league_players.csv\": \"Premier League\",\n",
    "    \"serie_a_players.csv\": \"Serie A\",\n",
    "    \"la_liga_players.csv\": \"La Liga\",\n",
    "    \"bundesliga_players.csv\": \"Bundesliga\",\n",
    "    \"ligue_1_players.csv\": \"Ligue 1\"\n",
    "}\n",
    "\n",
    "nationality_replacements = {\n",
    "    \"Korea, South\": \"South Korea\",\n",
    "    \"Congo, DR\": \"DR Congo\",\n",
    "    \"Congo, Republic\": \"Republic of Congo\",\n",
    "    \"United States\": \"USA\",\n",
    "    \"England\": \"England\",  # keep consistent\n",
    "    \"Ivory Coast\": \"Côte d'Ivoire\",\n",
    "    \"Bosnia-Herzegovina\": \"Bosnia and Herzegovina\"\n",
    "}\n",
    "\n",
    "combined = []"
   ]
  },
  {
   "cell_type": "markdown",
   "id": "1e70e83b",
   "metadata": {},
   "source": [
    "## Reading and Processing Each File"
   ]
  },
  {
   "cell_type": "code",
   "execution_count": 3,
   "id": "fb9f078e",
   "metadata": {},
   "outputs": [],
   "source": [
    "for file in files:\n",
    "    path = os.path.join(data_dir, file)\n",
    "    if os.path.exists(path):\n",
    "        df = pd.read_csv(path)\n",
    "        df[\"League\"] = league_labels[file]\n",
    "        # Extract the first nationality\n",
    "        df[\"Nationality\"] = df[\"Nationality\"].apply(lambda x: str(x).split(\" / \")[0] if pd.notnull(x) else x)\n",
    "        # Apply known replacements\n",
    "        df[\"Nationality\"] = df[\"Nationality\"].replace(nationality_replacements)\n",
    "        df = df[[\"Name\", \"Age\", \"Position\", \"Nationality\", \"League\", \"Club Name\", \"Market Value\"]]\n",
    "        df.columns = [\"Name\", \"Age\", \"Position\", \"Nationality\", \"League\", \"Club\", \"Market Value\"]\n",
    "        combined.append(df)"
   ]
  },
  {
   "cell_type": "markdown",
   "id": "7bc7bad2",
   "metadata": {},
   "source": [
    "## Combining All Files into a Single DataFrame"
   ]
  },
  {
   "cell_type": "code",
   "execution_count": 4,
   "id": "48aa987e",
   "metadata": {},
   "outputs": [
    {
     "name": "stdout",
     "output_type": "stream",
     "text": [
      "✅ Combined and cleaned CSV saved as 'data/all_leagues_combined.csv'\n"
     ]
    }
   ],
   "source": [
    "if combined:\n",
    "    full_df = pd.concat(combined, ignore_index=True)\n",
    "    full_df.to_csv(\"../data/cleaned/all_leagues_combined.csv\", index=False)\n",
    "    print(\"✅ Combined and cleaned CSV saved as 'data/all_leagues_combined.csv'\")\n",
    "else:\n",
    "    print(\"⚠️ No files found. Please check paths.\")"
   ]
  }
 ],
 "metadata": {
  "kernelspec": {
   "display_name": "Python 3",
   "language": "python",
   "name": "python3"
  },
  "language_info": {
   "codemirror_mode": {
    "name": "ipython",
    "version": 3
   },
   "file_extension": ".py",
   "mimetype": "text/x-python",
   "name": "python",
   "nbconvert_exporter": "python",
   "pygments_lexer": "ipython3",
   "version": "3.12.1"
  }
 },
 "nbformat": 4,
 "nbformat_minor": 5
}
