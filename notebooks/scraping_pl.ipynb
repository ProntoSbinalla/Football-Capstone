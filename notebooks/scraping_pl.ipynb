{
 "cells": [
  {
   "cell_type": "markdown",
   "id": "c0454aa6",
   "metadata": {},
   "source": [
    "# Web Scraping through TransferMkt for Premier League Players"
   ]
  },
  {
   "cell_type": "markdown",
   "id": "d8b4d803",
   "metadata": {},
   "source": [
    "## Importing Libraries"
   ]
  }
 ],
 "metadata": {
  "language_info": {
   "name": "python"
  }
 },
 "nbformat": 4,
 "nbformat_minor": 5
}
