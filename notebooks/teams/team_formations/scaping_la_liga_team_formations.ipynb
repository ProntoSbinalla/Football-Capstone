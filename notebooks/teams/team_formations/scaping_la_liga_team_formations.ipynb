{
 "cells": [
  {
   "cell_type": "markdown",
   "id": "9af2a6af",
   "metadata": {},
   "source": [
    "# Scraping La Liga Team Formations from FBRef"
   ]
  },
  {
   "cell_type": "code",
   "execution_count": 1,
   "id": "1b65bbfe",
   "metadata": {},
   "outputs": [
    {
     "name": "stdout",
     "output_type": "stream",
     "text": [
      "Scraping formation data for Barcelona (Attempt 1) → https://fbref.com/en/squads/206d90db/Barcelona-Stats\n",
      "Scraping formation data for Real Madrid (Attempt 1) → https://fbref.com/en/squads/53a2f082/Real-Madrid-Stats\n",
      "Scraping formation data for Atletico Madrid (Attempt 1) → https://fbref.com/en/squads/db3b9613/Atletico-Madrid-Stats\n",
      "Scraping formation data for Athletic Bilbao (Attempt 1) → https://fbref.com/en/squads/2b390eca/Athletic-Bilbao-Stats\n",
      "Scraping formation data for Villarreal (Attempt 1) → https://fbref.com/en/squads/2a8183b3/Villarreal-Stats\n",
      "Scraping formation data for Real Betis (Attempt 1) → https://fbref.com/en/squads/fc536746/Real-Betis-Stats\n",
      "Scraping formation data for Celta Vigo (Attempt 1) → https://fbref.com/en/squads/f25da7fb/Celta-Vigo-Stats\n",
      "Scraping formation data for Rayo Vallecano (Attempt 1) → https://fbref.com/en/squads/98e8af82/Rayo-Vallecano-Stats\n",
      "Scraping formation data for Mallorca (Attempt 1) → https://fbref.com/en/squads/2aa12281/Mallorca-Stats\n",
      "Scraping formation data for Osasuna (Attempt 1) → https://fbref.com/en/squads/03c57e2b/Osasuna-Stats\n",
      "Scraping formation data for Valencia (Attempt 1) → https://fbref.com/en/squads/dcc91a7b/Valencia-Stats\n",
      "Scraping formation data for Real Sociedad (Attempt 1) → https://fbref.com/en/squads/e31d1cd9/Real-Sociedad-Stats\n",
      "Scraping formation data for Girona (Attempt 1) → https://fbref.com/en/squads/9024a00a/Girona-Stats\n",
      "Scraping formation data for Sevilla (Attempt 1) → https://fbref.com/en/squads/ad2be733/Sevilla-Stats\n",
      "Scraping formation data for Getafe (Attempt 1) → https://fbref.com/en/squads/7848bd64/Getafe-Stats\n",
      "Scraping formation data for Espanyol (Attempt 1) → https://fbref.com/en/squads/a8661628/Espanyol-Stats\n",
      "Scraping formation data for Alaves (Attempt 1) → https://fbref.com/en/squads/8d6fd021/Alaves-Stats\n",
      "Scraping formation data for Leganes (Attempt 1) → https://fbref.com/en/squads/7c6f2c78/Leganes-Stats\n",
      "Scraping formation data for Las Palmas (Attempt 1) → https://fbref.com/en/squads/0049d422/Las-Palmas-Stats\n",
      "Scraping formation data for Valladolid (Attempt 1) → https://fbref.com/en/squads/17859612/Valladolid-Stats\n"
     ]
    },
    {
     "data": {
      "application/vnd.microsoft.datawrangler.viewer.v0+json": {
       "columns": [
        {
         "name": "index",
         "rawType": "int64",
         "type": "integer"
        },
        {
         "name": "Team",
         "rawType": "object",
         "type": "string"
        },
        {
         "name": "Most Common Formation",
         "rawType": "object",
         "type": "string"
        }
       ],
       "conversionMethod": "pd.DataFrame",
       "ref": "8a54acd6-7b0a-49d7-89a9-4b28aa330b61",
       "rows": [
        [
         "0",
         "Barcelona",
         "4-2-3-1"
        ],
        [
         "1",
         "Real Madrid",
         "4-2-3-1"
        ],
        [
         "2",
         "Atletico Madrid",
         "4-4-2"
        ],
        [
         "3",
         "Athletic Bilbao",
         "4-2-3-1"
        ],
        [
         "4",
         "Villarreal",
         "4-4-2"
        ]
       ],
       "shape": {
        "columns": 2,
        "rows": 5
       }
      },
      "text/html": [
       "<div>\n",
       "<style scoped>\n",
       "    .dataframe tbody tr th:only-of-type {\n",
       "        vertical-align: middle;\n",
       "    }\n",
       "\n",
       "    .dataframe tbody tr th {\n",
       "        vertical-align: top;\n",
       "    }\n",
       "\n",
       "    .dataframe thead th {\n",
       "        text-align: right;\n",
       "    }\n",
       "</style>\n",
       "<table border=\"1\" class=\"dataframe\">\n",
       "  <thead>\n",
       "    <tr style=\"text-align: right;\">\n",
       "      <th></th>\n",
       "      <th>Team</th>\n",
       "      <th>Most Common Formation</th>\n",
       "    </tr>\n",
       "  </thead>\n",
       "  <tbody>\n",
       "    <tr>\n",
       "      <th>0</th>\n",
       "      <td>Barcelona</td>\n",
       "      <td>4-2-3-1</td>\n",
       "    </tr>\n",
       "    <tr>\n",
       "      <th>1</th>\n",
       "      <td>Real Madrid</td>\n",
       "      <td>4-2-3-1</td>\n",
       "    </tr>\n",
       "    <tr>\n",
       "      <th>2</th>\n",
       "      <td>Atletico Madrid</td>\n",
       "      <td>4-4-2</td>\n",
       "    </tr>\n",
       "    <tr>\n",
       "      <th>3</th>\n",
       "      <td>Athletic Bilbao</td>\n",
       "      <td>4-2-3-1</td>\n",
       "    </tr>\n",
       "    <tr>\n",
       "      <th>4</th>\n",
       "      <td>Villarreal</td>\n",
       "      <td>4-4-2</td>\n",
       "    </tr>\n",
       "  </tbody>\n",
       "</table>\n",
       "</div>"
      ],
      "text/plain": [
       "              Team Most Common Formation\n",
       "0        Barcelona               4-2-3-1\n",
       "1      Real Madrid               4-2-3-1\n",
       "2  Atletico Madrid                 4-4-2\n",
       "3  Athletic Bilbao               4-2-3-1\n",
       "4       Villarreal                 4-4-2"
      ]
     },
     "execution_count": 1,
     "metadata": {},
     "output_type": "execute_result"
    }
   ],
   "source": [
    "import pandas as pd\n",
    "import requests\n",
    "import random\n",
    "import time\n",
    "\n",
    "# FBref team IDs for La Liga 2024-25\n",
    "TEAM_IDS = {\n",
    "    \"Barcelona\": \"206d90db\",\n",
    "    \"Real Madrid\": \"53a2f082\",\n",
    "    \"Atletico Madrid\": \"db3b9613\",\n",
    "    \"Athletic Bilbao\": \"2b390eca\",\n",
    "    \"Villarreal\": \"2a8183b3\",\n",
    "    \"Real Betis\": \"fc536746\",\n",
    "    \"Celta Vigo\": \"f25da7fb\",\n",
    "    \"Rayo Vallecano\": \"98e8af82\",\n",
    "    \"Mallorca\": \"2aa12281\",\n",
    "    \"Osasuna\": \"03c57e2b\",\n",
    "    \"Valencia\": \"dcc91a7b\",\n",
    "    \"Real Sociedad\": \"e31d1cd9\",\n",
    "    \"Girona\": \"9024a00a\",\n",
    "    \"Sevilla\": \"ad2be733\",\n",
    "    \"Getafe\": \"7848bd64\",\n",
    "    \"Espanyol\": \"a8661628\",\n",
    "    \"Alaves\": \"8d6fd021\",\n",
    "    \"Leganes\": \"7c6f2c78\",\n",
    "    \"Las Palmas\": \"0049d422\",\n",
    "    \"Valladolid\": \"17859612\"\n",
    "}\n",
    "\n",
    "BASE_URL = \"https://fbref.com/en/squads/{team_id}/{slug}-Stats\"\n",
    "HEADERS = {\n",
    "    \"User-Agent\": \"Mozilla/5.0 (Windows NT 10.0; Win64; x64) AppleWebKit/537.36 (KHTML, like Gecko) Chrome/123.0.0.0 Safari/537.36\"\n",
    "}\n",
    "\n",
    "# Collect most common formations\n",
    "def try_scrape_formation(team_name, team_id, retries=3, delay=3):\n",
    "    slug = team_name.replace(\" \", \"-\").replace(\".\", \"\").replace(\"&\", \"and\")\n",
    "    url = BASE_URL.format(team_id=team_id, slug=slug)\n",
    "\n",
    "    for attempt in range(retries):\n",
    "        try:\n",
    "            print(f\"Scraping formation data for {team_name} (Attempt {attempt+1}) → {url}\")\n",
    "            response = requests.get(url, headers=HEADERS)\n",
    "            time.sleep(random.uniform(4, 10))  # Random delay to avoid being blocked\n",
    "            matchlog_df = pd.read_html(response.url, attrs={\"id\": \"matchlogs_for\"})[0]\n",
    "            if \"Formation\" in matchlog_df.columns:\n",
    "                return matchlog_df[\"Formation\"].value_counts().idxmax()\n",
    "            return \"Formation column missing\"\n",
    "        except Exception as e:\n",
    "            print(f\"⚠️ Attempt {attempt+1} failed for {team_name}: {e}\")\n",
    "    return \"Error\"\n",
    "\n",
    "# Collect most common formations\n",
    "formation_data = []\n",
    "for team_name, team_id in TEAM_IDS.items():\n",
    "    formation = try_scrape_formation(team_name, team_id)\n",
    "    formation_data.append({\"Team\": team_name, \"Most Common Formation\": formation})\n",
    "    \n",
    "formation_df = pd.DataFrame(formation_data)\n",
    "\n",
    "formation_df.head()"
   ]
  },
  {
   "cell_type": "code",
   "execution_count": 2,
   "id": "5eaf50cb",
   "metadata": {},
   "outputs": [
    {
     "name": "stdout",
     "output_type": "stream",
     "text": [
      "✅ Saved team formations to ../../data/teams/raw/formations/la_liga_team_formations.csv\n"
     ]
    }
   ],
   "source": [
    "formation_df.to_csv(\"../../data/teams/raw/formations/la_liga_team_formations.csv\", index=False)\n",
    "print(\"✅ Saved team formations to ../../data/teams/raw/formations/la_liga_team_formations.csv\")"
   ]
  }
 ],
 "metadata": {
  "kernelspec": {
   "display_name": "Python 3",
   "language": "python",
   "name": "python3"
  },
  "language_info": {
   "codemirror_mode": {
    "name": "ipython",
    "version": 3
   },
   "file_extension": ".py",
   "mimetype": "text/x-python",
   "name": "python",
   "nbconvert_exporter": "python",
   "pygments_lexer": "ipython3",
   "version": "3.12.1"
  }
 },
 "nbformat": 4,
 "nbformat_minor": 5
}
