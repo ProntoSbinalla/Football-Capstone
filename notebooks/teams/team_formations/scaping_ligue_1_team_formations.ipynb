{
 "cells": [
  {
   "cell_type": "markdown",
   "id": "9af2a6af",
   "metadata": {},
   "source": [
    "# Scraping Ligue 1 Team Formations from FBRef"
   ]
  },
  {
   "cell_type": "code",
   "execution_count": 1,
   "id": "1b65bbfe",
   "metadata": {},
   "outputs": [
    {
     "name": "stdout",
     "output_type": "stream",
     "text": [
      "Scraping formation data for Paris Saint-Germain (Attempt 1) → https://fbref.com/en/squads/e2d8892c/Paris-Saint-Germain-Stats\n",
      "Scraping formation data for Marseille (Attempt 1) → https://fbref.com/en/squads/5725cc7b/Marseille-Stats\n",
      "Scraping formation data for Monaco (Attempt 1) → https://fbref.com/en/squads/fd6114db/Monaco-Stats\n",
      "Scraping formation data for Nice (Attempt 1) → https://fbref.com/en/squads/132ebc33/Nice-Stats\n",
      "Scraping formation data for Lille (Attempt 1) → https://fbref.com/en/squads/cb188c0c/Lille-Stats\n",
      "Scraping formation data for Strasbourg (Attempt 1) → https://fbref.com/en/squads/c0d3eab4/Strasbourg-Stats\n",
      "Scraping formation data for Lyon (Attempt 1) → https://fbref.com/en/squads/d53c0b06/Lyon-Stats\n",
      "Scraping formation data for Brest (Attempt 1) → https://fbref.com/en/squads/fb08dbb3/Brest-Stats\n",
      "Scraping formation data for Lens (Attempt 1) → https://fbref.com/en/squads/fd4e0f7d/Lens-Stats\n",
      "Scraping formation data for Auxerre (Attempt 1) → https://fbref.com/en/squads/5ae09109/Auxerre-Stats\n",
      "Scraping formation data for Rennes (Attempt 1) → https://fbref.com/en/squads/b3072e00/Rennes-Stats\n",
      "Scraping formation data for Toulouse (Attempt 1) → https://fbref.com/en/squads/3f8c4b5f/Toulouse-Stats\n",
      "Scraping formation data for Angers (Attempt 1) → https://fbref.com/en/squads/69236f98/Angers-Stats\n",
      "Scraping formation data for Reims (Attempt 1) → https://fbref.com/en/squads/7fdd64e0/Reims-Stats\n",
      "Scraping formation data for Nantes (Attempt 1) → https://fbref.com/en/squads/d7a486cd/Nantes-Stats\n",
      "Scraping formation data for Le Havre (Attempt 1) → https://fbref.com/en/squads/5c2737db/Le-Havre-Stats\n",
      "Scraping formation data for Saint-Étienne (Attempt 1) → https://fbref.com/en/squads/d298ef2c/Saint-Étienne-Stats\n",
      "Scraping formation data for Montpellier (Attempt 1) → https://fbref.com/en/squads/281b0e73/Montpellier-Stats\n"
     ]
    },
    {
     "data": {
      "application/vnd.microsoft.datawrangler.viewer.v0+json": {
       "columns": [
        {
         "name": "index",
         "rawType": "int64",
         "type": "integer"
        },
        {
         "name": "Team",
         "rawType": "object",
         "type": "string"
        },
        {
         "name": "Most Common Formation",
         "rawType": "object",
         "type": "string"
        }
       ],
       "conversionMethod": "pd.DataFrame",
       "ref": "36ee6707-069b-4666-a520-19c9209eb960",
       "rows": [
        [
         "0",
         "Paris Saint-Germain",
         "4-3-3"
        ],
        [
         "1",
         "Marseille",
         "3-4-3"
        ],
        [
         "2",
         "Monaco",
         "4-2-3-1"
        ],
        [
         "3",
         "Nice",
         "3-4-3"
        ],
        [
         "4",
         "Lille",
         "4-2-3-1"
        ]
       ],
       "shape": {
        "columns": 2,
        "rows": 5
       }
      },
      "text/html": [
       "<div>\n",
       "<style scoped>\n",
       "    .dataframe tbody tr th:only-of-type {\n",
       "        vertical-align: middle;\n",
       "    }\n",
       "\n",
       "    .dataframe tbody tr th {\n",
       "        vertical-align: top;\n",
       "    }\n",
       "\n",
       "    .dataframe thead th {\n",
       "        text-align: right;\n",
       "    }\n",
       "</style>\n",
       "<table border=\"1\" class=\"dataframe\">\n",
       "  <thead>\n",
       "    <tr style=\"text-align: right;\">\n",
       "      <th></th>\n",
       "      <th>Team</th>\n",
       "      <th>Most Common Formation</th>\n",
       "    </tr>\n",
       "  </thead>\n",
       "  <tbody>\n",
       "    <tr>\n",
       "      <th>0</th>\n",
       "      <td>Paris Saint-Germain</td>\n",
       "      <td>4-3-3</td>\n",
       "    </tr>\n",
       "    <tr>\n",
       "      <th>1</th>\n",
       "      <td>Marseille</td>\n",
       "      <td>3-4-3</td>\n",
       "    </tr>\n",
       "    <tr>\n",
       "      <th>2</th>\n",
       "      <td>Monaco</td>\n",
       "      <td>4-2-3-1</td>\n",
       "    </tr>\n",
       "    <tr>\n",
       "      <th>3</th>\n",
       "      <td>Nice</td>\n",
       "      <td>3-4-3</td>\n",
       "    </tr>\n",
       "    <tr>\n",
       "      <th>4</th>\n",
       "      <td>Lille</td>\n",
       "      <td>4-2-3-1</td>\n",
       "    </tr>\n",
       "  </tbody>\n",
       "</table>\n",
       "</div>"
      ],
      "text/plain": [
       "                  Team Most Common Formation\n",
       "0  Paris Saint-Germain                 4-3-3\n",
       "1            Marseille                 3-4-3\n",
       "2               Monaco               4-2-3-1\n",
       "3                 Nice                 3-4-3\n",
       "4                Lille               4-2-3-1"
      ]
     },
     "execution_count": 1,
     "metadata": {},
     "output_type": "execute_result"
    }
   ],
   "source": [
    "import pandas as pd\n",
    "import requests\n",
    "import random\n",
    "import time\n",
    "\n",
    "# FBref team IDs for Ligue 1 2024-25\n",
    "TEAM_IDS = {\n",
    "    \"Paris Saint-Germain\": \"e2d8892c\",\n",
    "    \"Marseille\": \"5725cc7b\",\n",
    "    \"Monaco\": \"fd6114db\",\n",
    "    \"Nice\": \"132ebc33\",\n",
    "    \"Lille\": \"cb188c0c\",\n",
    "    \"Strasbourg\": \"c0d3eab4\",\n",
    "    \"Lyon\": \"d53c0b06\",\n",
    "    \"Brest\": \"fb08dbb3\",\n",
    "    \"Lens\": \"fd4e0f7d\",\n",
    "    \"Auxerre\": \"5ae09109\",\n",
    "    \"Rennes\": \"b3072e00\",\n",
    "    \"Toulouse\": \"3f8c4b5f\",\n",
    "    \"Angers\": \"69236f98\",\n",
    "    \"Reims\": \"7fdd64e0\",\n",
    "    \"Nantes\": \"d7a486cd\",\n",
    "    \"Le Havre\": \"5c2737db\",\n",
    "    \"Saint-Étienne\": \"d298ef2c\",\n",
    "    \"Montpellier\": \"281b0e73\"\n",
    "}\n",
    "\n",
    "BASE_URL = \"https://fbref.com/en/squads/{team_id}/{slug}-Stats\"\n",
    "HEADERS = {\n",
    "    \"User-Agent\": \"Mozilla/5.0 (Windows NT 10.0; Win64; x64) AppleWebKit/537.36 (KHTML, like Gecko) Chrome/123.0.0.0 Safari/537.36\"\n",
    "}\n",
    "\n",
    "# Collect most common formations\n",
    "def try_scrape_formation(team_name, team_id, retries=3, delay=3):\n",
    "    slug = team_name.replace(\" \", \"-\").replace(\".\", \"\").replace(\"&\", \"and\")\n",
    "    url = BASE_URL.format(team_id=team_id, slug=slug)\n",
    "\n",
    "    for attempt in range(retries):\n",
    "        try:\n",
    "            print(f\"Scraping formation data for {team_name} (Attempt {attempt+1}) → {url}\")\n",
    "            response = requests.get(url, headers=HEADERS)\n",
    "            time.sleep(random.uniform(4, 10))  # Random delay to avoid being blocked\n",
    "            matchlog_df = pd.read_html(response.url, attrs={\"id\": \"matchlogs_for\"})[0]\n",
    "            if \"Formation\" in matchlog_df.columns:\n",
    "                return matchlog_df[\"Formation\"].value_counts().idxmax()\n",
    "            return \"Formation column missing\"\n",
    "        except Exception as e:\n",
    "            print(f\"⚠️ Attempt {attempt+1} failed for {team_name}: {e}\")\n",
    "    return \"Error\"\n",
    "\n",
    "# Collect most common formations\n",
    "formation_data = []\n",
    "for team_name, team_id in TEAM_IDS.items():\n",
    "    formation = try_scrape_formation(team_name, team_id)\n",
    "    formation_data.append({\"Team\": team_name, \"Most Common Formation\": formation})\n",
    "    \n",
    "formation_df = pd.DataFrame(formation_data)\n",
    "\n",
    "formation_df.head()"
   ]
  },
  {
   "cell_type": "code",
   "execution_count": null,
   "id": "5eaf50cb",
   "metadata": {},
   "outputs": [
    {
     "name": "stdout",
     "output_type": "stream",
     "text": [
      "✅ Saved team formations to ../../data/teams/raw/formations/ligue_1_team_formations.csv\n"
     ]
    }
   ],
   "source": [
    "formation_df.to_csv(\"../../../data/teams/raw/formations/ligue_1_team_formations.csv\", index=False)\n",
    "print(\"✅ Saved team formations to ../../../data/teams/raw/formations/ligue_1_team_formations.csv\")"
   ]
  }
 ],
 "metadata": {
  "kernelspec": {
   "display_name": "Python 3",
   "language": "python",
   "name": "python3"
  },
  "language_info": {
   "codemirror_mode": {
    "name": "ipython",
    "version": 3
   },
   "file_extension": ".py",
   "mimetype": "text/x-python",
   "name": "python",
   "nbconvert_exporter": "python",
   "pygments_lexer": "ipython3",
   "version": "3.12.1"
  }
 },
 "nbformat": 4,
 "nbformat_minor": 5
}
