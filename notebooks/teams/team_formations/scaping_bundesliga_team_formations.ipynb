{
 "cells": [
  {
   "cell_type": "markdown",
   "id": "9af2a6af",
   "metadata": {},
   "source": [
    "# Scraping Bundesliga Team Formations from FBRef"
   ]
  },
  {
   "cell_type": "code",
   "execution_count": 1,
   "id": "1b65bbfe",
   "metadata": {},
   "outputs": [
    {
     "name": "stdout",
     "output_type": "stream",
     "text": [
      "Scraping formation data for Bayern Munich (Attempt 1) → https://fbref.com/en/squads/054efa67/Bayern-Munich-Stats\n",
      "Scraping formation data for Bayer Leverkusen (Attempt 1) → https://fbref.com/en/squads/c7a9f859/Bayer-Leverkusen-Stats\n",
      "Scraping formation data for Eintracht Frankfurt (Attempt 1) → https://fbref.com/en/squads/f0ac8ee6/Eintracht-Frankfurt-Stats\n",
      "Scraping formation data for Freiburg (Attempt 1) → https://fbref.com/en/squads/a486e511/Freiburg-Stats\n",
      "Scraping formation data for Borussia Dortmund (Attempt 1) → https://fbref.com/en/squads/add600ae/Borussia-Dortmund-Stats\n",
      "Scraping formation data for Mainz 05 (Attempt 1) → https://fbref.com/en/squads/a224b06a/Mainz-05-Stats\n",
      "Scraping formation data for RB Leipzig (Attempt 1) → https://fbref.com/en/squads/acbb6a5b/RB-Leipzig-Stats\n",
      "Scraping formation data for Werder Bremen (Attempt 1) → https://fbref.com/en/squads/62add3bf/Werder-Bremen-Stats\n",
      "Scraping formation data for Stuttgart (Attempt 1) → https://fbref.com/en/squads/598bc722/Stuttgart-Stats\n",
      "Scraping formation data for Monchengladbach (Attempt 1) → https://fbref.com/en/squads/32f3ee20/Monchengladbach-Stats\n",
      "Scraping formation data for Augsburg (Attempt 1) → https://fbref.com/en/squads/0cdc4311/Augsburg-Stats\n",
      "Scraping formation data for Wolfsburg (Attempt 1) → https://fbref.com/en/squads/4eaa11d7/Wolfsburg-Stats\n",
      "Scraping formation data for Union Berlin (Attempt 1) → https://fbref.com/en/squads/7a41008f/Union-Berlin-Stats\n",
      "Scraping formation data for St Pauli (Attempt 1) → https://fbref.com/en/squads/54864664/St-Pauli-Stats\n",
      "Scraping formation data for Hoffenheim (Attempt 1) → https://fbref.com/en/squads/033ea6b8/Hoffenheim-Stats\n",
      "Scraping formation data for Heidenheim (Attempt 1) → https://fbref.com/en/squads/18d9d2a7/Heidenheim-Stats\n",
      "Scraping formation data for Holstein Kiel (Attempt 1) → https://fbref.com/en/squads/2ac661d9/Holstein-Kiel-Stats\n",
      "Scraping formation data for Bochum (Attempt 1) → https://fbref.com/en/squads/b42c6323/Bochum-Stats\n"
     ]
    },
    {
     "data": {
      "application/vnd.microsoft.datawrangler.viewer.v0+json": {
       "columns": [
        {
         "name": "index",
         "rawType": "int64",
         "type": "integer"
        },
        {
         "name": "Team",
         "rawType": "object",
         "type": "string"
        },
        {
         "name": "Most Common Formation",
         "rawType": "object",
         "type": "string"
        }
       ],
       "conversionMethod": "pd.DataFrame",
       "ref": "e1fa9c2f-7175-4e33-9c2f-fa880eb22dc6",
       "rows": [
        [
         "0",
         "Bayern Munich",
         "4-2-3-1"
        ],
        [
         "1",
         "Bayer Leverkusen",
         "3-4-3"
        ],
        [
         "2",
         "Eintracht Frankfurt",
         "4-4-2"
        ],
        [
         "3",
         "Freiburg",
         "4-2-3-1"
        ],
        [
         "4",
         "Borussia Dortmund",
         "4-2-3-1"
        ]
       ],
       "shape": {
        "columns": 2,
        "rows": 5
       }
      },
      "text/html": [
       "<div>\n",
       "<style scoped>\n",
       "    .dataframe tbody tr th:only-of-type {\n",
       "        vertical-align: middle;\n",
       "    }\n",
       "\n",
       "    .dataframe tbody tr th {\n",
       "        vertical-align: top;\n",
       "    }\n",
       "\n",
       "    .dataframe thead th {\n",
       "        text-align: right;\n",
       "    }\n",
       "</style>\n",
       "<table border=\"1\" class=\"dataframe\">\n",
       "  <thead>\n",
       "    <tr style=\"text-align: right;\">\n",
       "      <th></th>\n",
       "      <th>Team</th>\n",
       "      <th>Most Common Formation</th>\n",
       "    </tr>\n",
       "  </thead>\n",
       "  <tbody>\n",
       "    <tr>\n",
       "      <th>0</th>\n",
       "      <td>Bayern Munich</td>\n",
       "      <td>4-2-3-1</td>\n",
       "    </tr>\n",
       "    <tr>\n",
       "      <th>1</th>\n",
       "      <td>Bayer Leverkusen</td>\n",
       "      <td>3-4-3</td>\n",
       "    </tr>\n",
       "    <tr>\n",
       "      <th>2</th>\n",
       "      <td>Eintracht Frankfurt</td>\n",
       "      <td>4-4-2</td>\n",
       "    </tr>\n",
       "    <tr>\n",
       "      <th>3</th>\n",
       "      <td>Freiburg</td>\n",
       "      <td>4-2-3-1</td>\n",
       "    </tr>\n",
       "    <tr>\n",
       "      <th>4</th>\n",
       "      <td>Borussia Dortmund</td>\n",
       "      <td>4-2-3-1</td>\n",
       "    </tr>\n",
       "  </tbody>\n",
       "</table>\n",
       "</div>"
      ],
      "text/plain": [
       "                  Team Most Common Formation\n",
       "0        Bayern Munich               4-2-3-1\n",
       "1     Bayer Leverkusen                 3-4-3\n",
       "2  Eintracht Frankfurt                 4-4-2\n",
       "3             Freiburg               4-2-3-1\n",
       "4    Borussia Dortmund               4-2-3-1"
      ]
     },
     "execution_count": 1,
     "metadata": {},
     "output_type": "execute_result"
    }
   ],
   "source": [
    "import pandas as pd\n",
    "import requests\n",
    "import random\n",
    "import time\n",
    "\n",
    "# FBref team IDs for Bundesliga 2024-25\n",
    "TEAM_IDS = {\n",
    "    \"Bayern Munich\": \"054efa67\",\n",
    "    \"Bayer Leverkusen\": \"c7a9f859\",\n",
    "    \"Eintracht Frankfurt\": \"f0ac8ee6\",\n",
    "    \"Freiburg\": \"a486e511\",\n",
    "    \"Borussia Dortmund\": \"add600ae\",\n",
    "    \"Mainz 05\": \"a224b06a\",\n",
    "    \"RB Leipzig\": \"acbb6a5b\",\n",
    "    \"Werder Bremen\": \"62add3bf\",\n",
    "    \"Stuttgart\": \"598bc722\",\n",
    "    \"Monchengladbach\": \"32f3ee20\",\n",
    "    \"Augsburg\": \"0cdc4311\",\n",
    "    \"Wolfsburg\": \"4eaa11d7\",\n",
    "    \"Union Berlin\": \"7a41008f\",\n",
    "    \"St Pauli\": \"54864664\",\n",
    "    \"Hoffenheim\": \"033ea6b8\",\n",
    "    \"Heidenheim\": \"18d9d2a7\",\n",
    "    \"Holstein Kiel\": \"2ac661d9\",\n",
    "    \"Bochum\": \"b42c6323\"\n",
    "}\n",
    "\n",
    "BASE_URL = \"https://fbref.com/en/squads/{team_id}/{slug}-Stats\"\n",
    "HEADERS = {\n",
    "    \"User-Agent\": \"Mozilla/5.0 (Windows NT 10.0; Win64; x64) AppleWebKit/537.36 (KHTML, like Gecko) Chrome/123.0.0.0 Safari/537.36\"\n",
    "}\n",
    "\n",
    "# Collect most common formations\n",
    "def try_scrape_formation(team_name, team_id, retries=3, delay=3):\n",
    "    slug = team_name.replace(\" \", \"-\").replace(\".\", \"\").replace(\"&\", \"and\")\n",
    "    url = BASE_URL.format(team_id=team_id, slug=slug)\n",
    "\n",
    "    for attempt in range(retries):\n",
    "        try:\n",
    "            print(f\"Scraping formation data for {team_name} (Attempt {attempt+1}) → {url}\")\n",
    "            response = requests.get(url, headers=HEADERS)\n",
    "            time.sleep(random.uniform(4, 10))  # Random delay to avoid being blocked\n",
    "            matchlog_df = pd.read_html(response.url, attrs={\"id\": \"matchlogs_for\"})[0]\n",
    "            if \"Formation\" in matchlog_df.columns:\n",
    "                return matchlog_df[\"Formation\"].value_counts().idxmax()\n",
    "            return \"Formation column missing\"\n",
    "        except Exception as e:\n",
    "            print(f\"⚠️ Attempt {attempt+1} failed for {team_name}: {e}\")\n",
    "    return \"Error\"\n",
    "\n",
    "# Collect most common formations\n",
    "formation_data = []\n",
    "for team_name, team_id in TEAM_IDS.items():\n",
    "    formation = try_scrape_formation(team_name, team_id)\n",
    "    formation_data.append({\"Team\": team_name, \"Most Common Formation\": formation})\n",
    "    \n",
    "formation_df = pd.DataFrame(formation_data)\n",
    "\n",
    "formation_df.head()"
   ]
  },
  {
   "cell_type": "code",
   "execution_count": 2,
   "id": "5eaf50cb",
   "metadata": {},
   "outputs": [
    {
     "name": "stdout",
     "output_type": "stream",
     "text": [
      "✅ Saved team formations to ../../data/teams/raw/formations/bundesliga_team_formations.csv\n"
     ]
    }
   ],
   "source": [
    "formation_df.to_csv(\"../../data/teams/raw/formations/bundesliga_team_formations.csv\", index=False)\n",
    "print(\"✅ Saved team formations to ../../data/teams/raw/formations/bundesliga_team_formations.csv\")"
   ]
  }
 ],
 "metadata": {
  "kernelspec": {
   "display_name": "Python 3",
   "language": "python",
   "name": "python3"
  },
  "language_info": {
   "codemirror_mode": {
    "name": "ipython",
    "version": 3
   },
   "file_extension": ".py",
   "mimetype": "text/x-python",
   "name": "python",
   "nbconvert_exporter": "python",
   "pygments_lexer": "ipython3",
   "version": "3.12.1"
  }
 },
 "nbformat": 4,
 "nbformat_minor": 5
}
