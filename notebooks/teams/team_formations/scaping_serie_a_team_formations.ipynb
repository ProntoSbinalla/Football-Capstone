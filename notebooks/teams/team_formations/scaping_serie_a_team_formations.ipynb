{
 "cells": [
  {
   "cell_type": "markdown",
   "id": "9af2a6af",
   "metadata": {},
   "source": [
    "# Scraping Serie A Team Formations from FBRef"
   ]
  },
  {
   "cell_type": "code",
   "execution_count": 1,
   "id": "1b65bbfe",
   "metadata": {},
   "outputs": [
    {
     "name": "stdout",
     "output_type": "stream",
     "text": [
      "Scraping formation data for Napoli (Attempt 1) → https://fbref.com/en/squads/d48ad4ff/Napoli-Stats\n",
      "Scraping formation data for Inter (Attempt 1) → https://fbref.com/en/squads/d609edc0/Inter-Stats\n",
      "Scraping formation data for Atalanta (Attempt 1) → https://fbref.com/en/squads/922493f3/Atalanta-Stats\n",
      "Scraping formation data for Juventus (Attempt 1) → https://fbref.com/en/squads/e0652b02/Juventus-Stats\n",
      "Scraping formation data for Lazio (Attempt 1) → https://fbref.com/en/squads/7213da33/Lazio-Stats\n",
      "Scraping formation data for Roma (Attempt 1) → https://fbref.com/en/squads/cf74a709/Roma-Stats\n",
      "Scraping formation data for Bologna (Attempt 1) → https://fbref.com/en/squads/1d8099f8/Bologna-Stats\n",
      "Scraping formation data for AC Milan (Attempt 1) → https://fbref.com/en/squads/dc56fe14/AC-Milan-Stats\n",
      "Scraping formation data for Fiorentina (Attempt 1) → https://fbref.com/en/squads/421387cf/Fiorentina-Stats\n",
      "Scraping formation data for Como (Attempt 1) → https://fbref.com/en/squads/28c9c3cd/Como-Stats\n",
      "Scraping formation data for Torino (Attempt 1) → https://fbref.com/en/squads/105360fe/Torino-Stats\n",
      "Scraping formation data for Udinese (Attempt 1) → https://fbref.com/en/squads/04eea015/Udinese-Stats\n",
      "Scraping formation data for Genoa (Attempt 1) → https://fbref.com/en/squads/658bf2de/Genoa-Stats\n",
      "Scraping formation data for Cagliari (Attempt 1) → https://fbref.com/en/squads/c4260e09/Cagliari-Stats\n",
      "Scraping formation data for Hellas Verona (Attempt 1) → https://fbref.com/en/squads/0e72edf2/Hellas-Verona-Stats\n",
      "Scraping formation data for Parma (Attempt 1) → https://fbref.com/en/squads/eab4234c/Parma-Stats\n",
      "Scraping formation data for Venezia (Attempt 1) → https://fbref.com/en/squads/af5d5982/Venezia-Stats\n",
      "Scraping formation data for Lecce (Attempt 1) → https://fbref.com/en/squads/ffcbe334/Lecce-Stats\n",
      "Scraping formation data for Empoli (Attempt 1) → https://fbref.com/en/squads/a3d88bd8/Empoli-Stats\n",
      "Scraping formation data for Monza (Attempt 1) → https://fbref.com/en/squads/21680aa4/Monza-Stats\n"
     ]
    },
    {
     "data": {
      "application/vnd.microsoft.datawrangler.viewer.v0+json": {
       "columns": [
        {
         "name": "index",
         "rawType": "int64",
         "type": "integer"
        },
        {
         "name": "Team",
         "rawType": "object",
         "type": "string"
        },
        {
         "name": "Most Common Formation",
         "rawType": "object",
         "type": "string"
        }
       ],
       "conversionMethod": "pd.DataFrame",
       "ref": "30d048cf-c1e3-44c3-8e13-c4e507d87f0c",
       "rows": [
        [
         "0",
         "Napoli",
         "4-3-3"
        ],
        [
         "1",
         "Inter",
         "3-5-2"
        ],
        [
         "2",
         "Atalanta",
         "3-4-3"
        ],
        [
         "3",
         "Juventus",
         "4-2-3-1"
        ],
        [
         "4",
         "Lazio",
         "4-2-3-1"
        ]
       ],
       "shape": {
        "columns": 2,
        "rows": 5
       }
      },
      "text/html": [
       "<div>\n",
       "<style scoped>\n",
       "    .dataframe tbody tr th:only-of-type {\n",
       "        vertical-align: middle;\n",
       "    }\n",
       "\n",
       "    .dataframe tbody tr th {\n",
       "        vertical-align: top;\n",
       "    }\n",
       "\n",
       "    .dataframe thead th {\n",
       "        text-align: right;\n",
       "    }\n",
       "</style>\n",
       "<table border=\"1\" class=\"dataframe\">\n",
       "  <thead>\n",
       "    <tr style=\"text-align: right;\">\n",
       "      <th></th>\n",
       "      <th>Team</th>\n",
       "      <th>Most Common Formation</th>\n",
       "    </tr>\n",
       "  </thead>\n",
       "  <tbody>\n",
       "    <tr>\n",
       "      <th>0</th>\n",
       "      <td>Napoli</td>\n",
       "      <td>4-3-3</td>\n",
       "    </tr>\n",
       "    <tr>\n",
       "      <th>1</th>\n",
       "      <td>Inter</td>\n",
       "      <td>3-5-2</td>\n",
       "    </tr>\n",
       "    <tr>\n",
       "      <th>2</th>\n",
       "      <td>Atalanta</td>\n",
       "      <td>3-4-3</td>\n",
       "    </tr>\n",
       "    <tr>\n",
       "      <th>3</th>\n",
       "      <td>Juventus</td>\n",
       "      <td>4-2-3-1</td>\n",
       "    </tr>\n",
       "    <tr>\n",
       "      <th>4</th>\n",
       "      <td>Lazio</td>\n",
       "      <td>4-2-3-1</td>\n",
       "    </tr>\n",
       "  </tbody>\n",
       "</table>\n",
       "</div>"
      ],
      "text/plain": [
       "       Team Most Common Formation\n",
       "0    Napoli                 4-3-3\n",
       "1     Inter                 3-5-2\n",
       "2  Atalanta                 3-4-3\n",
       "3  Juventus               4-2-3-1\n",
       "4     Lazio               4-2-3-1"
      ]
     },
     "execution_count": 1,
     "metadata": {},
     "output_type": "execute_result"
    }
   ],
   "source": [
    "import pandas as pd\n",
    "import requests\n",
    "import random\n",
    "import time\n",
    "\n",
    "# FBref team IDs for Serie A 2024-25\n",
    "TEAM_IDS = {\n",
    "    \"Napoli\": \"d48ad4ff\",\n",
    "    \"Inter\": \"d609edc0\",\n",
    "    \"Atalanta\": \"922493f3\",\n",
    "    \"Juventus\": \"e0652b02\",\n",
    "    \"Lazio\": \"7213da33\",\n",
    "    \"Roma\": \"cf74a709\",\n",
    "    \"Bologna\": \"1d8099f8\",\n",
    "    \"AC Milan\": \"dc56fe14\",\n",
    "    \"Fiorentina\": \"421387cf\",\n",
    "    \"Como\": \"28c9c3cd\",\n",
    "    \"Torino\": \"105360fe\",\n",
    "    \"Udinese\": \"04eea015\",\n",
    "    \"Genoa\": \"658bf2de\",\n",
    "    \"Cagliari\": \"c4260e09\",\n",
    "    \"Hellas Verona\": \"0e72edf2\",\n",
    "    \"Parma\": \"eab4234c\",\n",
    "    \"Venezia\": \"af5d5982\",\n",
    "    \"Lecce\": \"ffcbe334\",\n",
    "    \"Empoli\": \"a3d88bd8\",\n",
    "    \"Monza\": \"21680aa4\"\n",
    "}\n",
    "\n",
    "BASE_URL = \"https://fbref.com/en/squads/{team_id}/{slug}-Stats\"\n",
    "HEADERS = {\n",
    "    \"User-Agent\": \"Mozilla/5.0 (Windows NT 10.0; Win64; x64) AppleWebKit/537.36 (KHTML, like Gecko) Chrome/123.0.0.0 Safari/537.36\"\n",
    "}\n",
    "\n",
    "# Collect most common formations\n",
    "def try_scrape_formation(team_name, team_id, retries=3, delay=3):\n",
    "    slug = team_name.replace(\" \", \"-\").replace(\".\", \"\").replace(\"&\", \"and\")\n",
    "    url = BASE_URL.format(team_id=team_id, slug=slug)\n",
    "\n",
    "    for attempt in range(retries):\n",
    "        try:\n",
    "            print(f\"Scraping formation data for {team_name} (Attempt {attempt+1}) → {url}\")\n",
    "            response = requests.get(url, headers=HEADERS)\n",
    "            time.sleep(random.uniform(4, 10))  # Random delay to avoid being blocked\n",
    "            matchlog_df = pd.read_html(response.url, attrs={\"id\": \"matchlogs_for\"})[0]\n",
    "            if \"Formation\" in matchlog_df.columns:\n",
    "                return matchlog_df[\"Formation\"].value_counts().idxmax()\n",
    "            return \"Formation column missing\"\n",
    "        except Exception as e:\n",
    "            print(f\"⚠️ Attempt {attempt+1} failed for {team_name}: {e}\")\n",
    "    return \"Error\"\n",
    "\n",
    "# Collect most common formations\n",
    "formation_data = []\n",
    "for team_name, team_id in TEAM_IDS.items():\n",
    "    formation = try_scrape_formation(team_name, team_id)\n",
    "    formation_data.append({\"Team\": team_name, \"Most Common Formation\": formation})\n",
    "    \n",
    "formation_df = pd.DataFrame(formation_data)\n",
    "\n",
    "formation_df.head()"
   ]
  },
  {
   "cell_type": "code",
   "execution_count": null,
   "id": "5eaf50cb",
   "metadata": {},
   "outputs": [
    {
     "name": "stdout",
     "output_type": "stream",
     "text": [
      "✅ Saved team formations to ../../data/teams/raw/formations/serie_a_team_formations.csv\n"
     ]
    }
   ],
   "source": [
    "formation_df.to_csv(\"../../../data/teams/raw/formations/serie_a_team_formations.csv\", index=False)\n",
    "print(\"✅ Saved team formations to ../../../data/teams/raw/formations/serie_a_team_formations.csv\")"
   ]
  }
 ],
 "metadata": {
  "kernelspec": {
   "display_name": "Python 3",
   "language": "python",
   "name": "python3"
  },
  "language_info": {
   "codemirror_mode": {
    "name": "ipython",
    "version": 3
   },
   "file_extension": ".py",
   "mimetype": "text/x-python",
   "name": "python",
   "nbconvert_exporter": "python",
   "pygments_lexer": "ipython3",
   "version": "3.12.1"
  }
 },
 "nbformat": 4,
 "nbformat_minor": 5
}
