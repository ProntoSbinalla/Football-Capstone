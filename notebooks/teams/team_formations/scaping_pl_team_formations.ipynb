{
 "cells": [
  {
   "cell_type": "markdown",
   "id": "9af2a6af",
   "metadata": {},
   "source": [
    "# Scraping PL Team Formations from FBRef"
   ]
  },
  {
   "cell_type": "code",
   "execution_count": 1,
   "id": "1b65bbfe",
   "metadata": {},
   "outputs": [
    {
     "name": "stdout",
     "output_type": "stream",
     "text": [
      "Scraping formation data for Arsenal (Attempt 1) → https://fbref.com/en/squads/18bb7c10/Arsenal-Stats\n",
      "Scraping formation data for Aston Villa (Attempt 1) → https://fbref.com/en/squads/8602292d/Aston-Villa-Stats\n",
      "Scraping formation data for Bournemouth (Attempt 1) → https://fbref.com/en/squads/4ba7cbea/Bournemouth-Stats\n",
      "Scraping formation data for Brentford (Attempt 1) → https://fbref.com/en/squads/cd051869/Brentford-Stats\n",
      "Scraping formation data for Brighton (Attempt 1) → https://fbref.com/en/squads/d07537b9/Brighton-Stats\n",
      "Scraping formation data for Chelsea (Attempt 1) → https://fbref.com/en/squads/cff3d9bb/Chelsea-Stats\n",
      "Scraping formation data for Crystal Palace (Attempt 1) → https://fbref.com/en/squads/47c64c55/Crystal-Palace-Stats\n",
      "Scraping formation data for Everton (Attempt 1) → https://fbref.com/en/squads/d3fd31cc/Everton-Stats\n",
      "Scraping formation data for Fulham (Attempt 1) → https://fbref.com/en/squads/fd962109/Fulham-Stats\n",
      "Scraping formation data for Ipswich Town (Attempt 1) → https://fbref.com/en/squads/b74092de/Ipswich-Town-Stats\n",
      "Scraping formation data for Leicester City (Attempt 1) → https://fbref.com/en/squads/a2d435b3/Leicester-City-Stats\n",
      "Scraping formation data for Liverpool (Attempt 1) → https://fbref.com/en/squads/822bd0ba/Liverpool-Stats\n",
      "Scraping formation data for Manchester City (Attempt 1) → https://fbref.com/en/squads/b8fd03ef/Manchester-City-Stats\n",
      "Scraping formation data for Manchester United (Attempt 1) → https://fbref.com/en/squads/19538871/Manchester-United-Stats\n",
      "Scraping formation data for Newcastle Utd (Attempt 1) → https://fbref.com/en/squads/b2b47a98/Newcastle-Utd-Stats\n",
      "Scraping formation data for Nottingham Forest (Attempt 1) → https://fbref.com/en/squads/e4a775cb/Nottingham-Forest-Stats\n",
      "Scraping formation data for Southampton (Attempt 1) → https://fbref.com/en/squads/33c895d4/Southampton-Stats\n",
      "Scraping formation data for Tottenham (Attempt 1) → https://fbref.com/en/squads/361ca564/Tottenham-Stats\n",
      "Scraping formation data for West Ham (Attempt 1) → https://fbref.com/en/squads/7c21e445/West-Ham-Stats\n",
      "Scraping formation data for Wolves (Attempt 1) → https://fbref.com/en/squads/8cec06e1/Wolves-Stats\n"
     ]
    },
    {
     "data": {
      "application/vnd.microsoft.datawrangler.viewer.v0+json": {
       "columns": [
        {
         "name": "index",
         "rawType": "int64",
         "type": "integer"
        },
        {
         "name": "Team",
         "rawType": "object",
         "type": "string"
        },
        {
         "name": "Most Common Formation",
         "rawType": "object",
         "type": "string"
        }
       ],
       "conversionMethod": "pd.DataFrame",
       "ref": "acf16636-f145-4f79-ae38-15a4f59d77dc",
       "rows": [
        [
         "0",
         "Arsenal",
         "4-3-3"
        ],
        [
         "1",
         "Aston Villa",
         "4-2-3-1"
        ],
        [
         "2",
         "Bournemouth",
         "4-2-3-1"
        ],
        [
         "3",
         "Brentford",
         "4-2-3-1"
        ],
        [
         "4",
         "Brighton",
         "4-2-3-1"
        ]
       ],
       "shape": {
        "columns": 2,
        "rows": 5
       }
      },
      "text/html": [
       "<div>\n",
       "<style scoped>\n",
       "    .dataframe tbody tr th:only-of-type {\n",
       "        vertical-align: middle;\n",
       "    }\n",
       "\n",
       "    .dataframe tbody tr th {\n",
       "        vertical-align: top;\n",
       "    }\n",
       "\n",
       "    .dataframe thead th {\n",
       "        text-align: right;\n",
       "    }\n",
       "</style>\n",
       "<table border=\"1\" class=\"dataframe\">\n",
       "  <thead>\n",
       "    <tr style=\"text-align: right;\">\n",
       "      <th></th>\n",
       "      <th>Team</th>\n",
       "      <th>Most Common Formation</th>\n",
       "    </tr>\n",
       "  </thead>\n",
       "  <tbody>\n",
       "    <tr>\n",
       "      <th>0</th>\n",
       "      <td>Arsenal</td>\n",
       "      <td>4-3-3</td>\n",
       "    </tr>\n",
       "    <tr>\n",
       "      <th>1</th>\n",
       "      <td>Aston Villa</td>\n",
       "      <td>4-2-3-1</td>\n",
       "    </tr>\n",
       "    <tr>\n",
       "      <th>2</th>\n",
       "      <td>Bournemouth</td>\n",
       "      <td>4-2-3-1</td>\n",
       "    </tr>\n",
       "    <tr>\n",
       "      <th>3</th>\n",
       "      <td>Brentford</td>\n",
       "      <td>4-2-3-1</td>\n",
       "    </tr>\n",
       "    <tr>\n",
       "      <th>4</th>\n",
       "      <td>Brighton</td>\n",
       "      <td>4-2-3-1</td>\n",
       "    </tr>\n",
       "  </tbody>\n",
       "</table>\n",
       "</div>"
      ],
      "text/plain": [
       "          Team Most Common Formation\n",
       "0      Arsenal                 4-3-3\n",
       "1  Aston Villa               4-2-3-1\n",
       "2  Bournemouth               4-2-3-1\n",
       "3    Brentford               4-2-3-1\n",
       "4     Brighton               4-2-3-1"
      ]
     },
     "execution_count": 1,
     "metadata": {},
     "output_type": "execute_result"
    }
   ],
   "source": [
    "import pandas as pd\n",
    "import requests\n",
    "import random\n",
    "import time\n",
    "\n",
    "# FBref team IDs for Premier League 2024-25\n",
    "TEAM_IDS = {\n",
    "    \"Arsenal\": \"18bb7c10\",\n",
    "    \"Aston Villa\": \"8602292d\",\n",
    "    \"Bournemouth\": \"4ba7cbea\",\n",
    "    \"Brentford\": \"cd051869\",\n",
    "    \"Brighton\": \"d07537b9\",\n",
    "    \"Chelsea\": \"cff3d9bb\",\n",
    "    \"Crystal Palace\": \"47c64c55\",\n",
    "    \"Everton\": \"d3fd31cc\",\n",
    "    \"Fulham\": \"fd962109\",\n",
    "    \"Ipswich Town\": \"b74092de\",\n",
    "    \"Leicester City\": \"a2d435b3\",\n",
    "    \"Liverpool\": \"822bd0ba\",\n",
    "    \"Manchester City\": \"b8fd03ef\",\n",
    "    \"Manchester United\": \"19538871\",\n",
    "    \"Newcastle Utd\": \"b2b47a98\",\n",
    "    \"Nottingham Forest\": \"e4a775cb\",\n",
    "    \"Southampton\": \"33c895d4\",\n",
    "    \"Tottenham\": \"361ca564\",\n",
    "    \"West Ham\": \"7c21e445\",\n",
    "    \"Wolves\": \"8cec06e1\"\n",
    "}\n",
    "\n",
    "BASE_URL = \"https://fbref.com/en/squads/{team_id}/{slug}-Stats\"\n",
    "HEADERS = {\n",
    "    \"User-Agent\": \"Mozilla/5.0 (Windows NT 10.0; Win64; x64) AppleWebKit/537.36 (KHTML, like Gecko) Chrome/123.0.0.0 Safari/537.36\"\n",
    "}\n",
    "\n",
    "# Collect most common formations\n",
    "def try_scrape_formation(team_name, team_id, retries=3, delay=3):\n",
    "    slug = team_name.replace(\" \", \"-\").replace(\".\", \"\").replace(\"&\", \"and\")\n",
    "    url = BASE_URL.format(team_id=team_id, slug=slug)\n",
    "\n",
    "    for attempt in range(retries):\n",
    "        try:\n",
    "            print(f\"Scraping formation data for {team_name} (Attempt {attempt+1}) → {url}\")\n",
    "            response = requests.get(url, headers=HEADERS)\n",
    "            time.sleep(random.uniform(4, 10))  # Random delay to avoid being blocked\n",
    "            matchlog_df = pd.read_html(response.url, attrs={\"id\": \"matchlogs_for\"})[0]\n",
    "            if \"Formation\" in matchlog_df.columns:\n",
    "                return matchlog_df[\"Formation\"].value_counts().idxmax()\n",
    "            return \"Formation column missing\"\n",
    "        except Exception as e:\n",
    "            print(f\"⚠️ Attempt {attempt+1} failed for {team_name}: {e}\")\n",
    "    return \"Error\"\n",
    "\n",
    "# Collect most common formations\n",
    "formation_data = []\n",
    "for team_name, team_id in TEAM_IDS.items():\n",
    "    formation = try_scrape_formation(team_name, team_id)\n",
    "    formation_data.append({\"Team\": team_name, \"Most Common Formation\": formation})\n",
    "    \n",
    "formation_df = pd.DataFrame(formation_data)\n",
    "\n",
    "formation_df.head()"
   ]
  },
  {
   "cell_type": "code",
   "execution_count": 2,
   "id": "5eaf50cb",
   "metadata": {},
   "outputs": [
    {
     "name": "stdout",
     "output_type": "stream",
     "text": [
      "✅ Saved team formations to ../../data/teams/raw/formations/pl_team_formations.csv\n"
     ]
    }
   ],
   "source": [
    "formation_df.to_csv(\"../../data/teams/raw/formations/pl_team_formations.csv\", index=False)\n",
    "print(\"✅ Saved team formations to ../../data/teams/raw/formations/pl_team_formations.csv\")"
   ]
  }
 ],
 "metadata": {
  "kernelspec": {
   "display_name": "Python 3",
   "language": "python",
   "name": "python3"
  },
  "language_info": {
   "codemirror_mode": {
    "name": "ipython",
    "version": 3
   },
   "file_extension": ".py",
   "mimetype": "text/x-python",
   "name": "python",
   "nbconvert_exporter": "python",
   "pygments_lexer": "ipython3",
   "version": "3.12.1"
  }
 },
 "nbformat": 4,
 "nbformat_minor": 5
}
