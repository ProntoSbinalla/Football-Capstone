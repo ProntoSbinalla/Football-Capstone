{
 "cells": [
  {
   "cell_type": "markdown",
   "id": "bba82e22",
   "metadata": {},
   "source": [
    "# PL Top Goalscorer and Assister"
   ]
  },
  {
   "cell_type": "code",
   "execution_count": 1,
   "id": "f5a23196",
   "metadata": {},
   "outputs": [],
   "source": [
    "import pandas as pd\n",
    "import time\n",
    "import random\n",
    "\n",
    "# Dictionary mapping team names to their FBref squad URLs\n",
    "team_url_map = {\n",
    "    \"Arsenal\": \"https://fbref.com/en/squads/18bb7c10/Arsenal-Stats\",\n",
    "    \"Aston Villa\": \"https://fbref.com/en/squads/8602292d/Aston-Villa-Stats\",\n",
    "    \"Bournemouth\": \"https://fbref.com/en/squads/4ba7cbea/Bournemouth-Stats\",\n",
    "    \"Brentford\": \"https://fbref.com/en/squads/cd051869/Brentford-Stats\",\n",
    "    \"Brighton & Hove Albion\": \"https://fbref.com/en/squads/d07537b9/Brighton-and-Hove-Albion-Stats\",\n",
    "    \"Chelsea\": \"https://fbref.com/en/squads/cff3d9bb/Chelsea-Stats\",\n",
    "    \"Crystal Palace\": \"https://fbref.com/en/squads/47c64c55/Crystal-Palace-Stats\",\n",
    "    \"Everton\": \"https://fbref.com/en/squads/d3fd31cc/Everton-Stats\",\n",
    "    \"Fulham\": \"https://fbref.com/en/squads/fd962109/Fulham-Stats\",\n",
    "    \"Ipswich Town\": \"https://fbref.com/en/squads/b74092de/Ipswich-Town-Stats\",\n",
    "    \"Leicester City\": \"https://fbref.com/en/squads/a2d435b3/Leicester-City-Stats\",\n",
    "    \"Liverpool\": \"https://fbref.com/en/squads/822bd0ba/Liverpool-Stats\",\n",
    "    \"Manchester City\": \"https://fbref.com/en/squads/b8fd03ef/Manchester-City-Stats\",\n",
    "    \"Manchester United\": \"https://fbref.com/en/squads/19538871/Manchester-United-Stats\",\n",
    "    \"Newcastle United\": \"https://fbref.com/en/squads/b2b47a98/Newcastle-United-Stats\",\n",
    "    \"Nottingham Forest\": \"https://fbref.com/en/squads/e4a775cb/Nottingham-Forest-Stats\",\n",
    "    \"Southampton\": \"https://fbref.com/en/squads/33c895d4/Southampton-Stats\",\n",
    "    \"Tottenham Hotspur\": \"https://fbref.com/en/squads/361ca564/Tottenham-Hotspur-Stats\",\n",
    "    \"West Ham United\": \"https://fbref.com/en/squads/7c21e445/West-Ham-United-Stats\",\n",
    "    \"Wolverhampton Wanderers\": \"https://fbref.com/en/squads/8cec06e1/Wolverhampton-Wanderers-Stats\"\n",
    "}"
   ]
  },
  {
   "cell_type": "code",
   "execution_count": 2,
   "id": "1a34826d",
   "metadata": {},
   "outputs": [
    {
     "name": "stdout",
     "output_type": "stream",
     "text": [
      "✔ Processed Arsenal\n",
      "✔ Processed Aston Villa\n",
      "✔ Processed Bournemouth\n",
      "✔ Processed Brentford\n",
      "✔ Processed Brighton & Hove Albion\n",
      "✔ Processed Chelsea\n",
      "✔ Processed Crystal Palace\n",
      "✔ Processed Everton\n",
      "✔ Processed Fulham\n",
      "✔ Processed Ipswich Town\n",
      "✔ Processed Leicester City\n",
      "✔ Processed Liverpool\n",
      "✔ Processed Manchester City\n",
      "✔ Processed Manchester United\n",
      "✔ Processed Newcastle United\n",
      "✔ Processed Nottingham Forest\n",
      "✔ Processed Southampton\n",
      "✔ Processed Tottenham Hotspur\n",
      "✔ Processed West Ham United\n",
      "✔ Processed Wolverhampton Wanderers\n",
      "\n",
      "✅ Final Result:\n",
      "                     Team   Top Goalscorer Goals      Top Assister Assists\n",
      "0                 Arsenal      Kai Havertz   9.0       Bukayo Saka    10.0\n",
      "1             Aston Villa    Ollie Watkins  16.0     Morgan Rogers    10.0\n",
      "2             Bournemouth  Justin Kluivert  12.0   Justin Kluivert     6.0\n",
      "3               Brentford     Bryan Mbeumo  19.0  Mikkel Damsgaard    10.0\n",
      "4  Brighton & Hove Albion    Danny Welbeck  10.0        João Pedro     6.0\n"
     ]
    }
   ],
   "source": [
    "df = pd.DataFrame(columns=[\"Team\", \"Top Goalscorer\", \"Goals\", \"Top Assister\", \"Assists\"])\n",
    "\n",
    "# Loop over each team and scrape data\n",
    "for idx, team in enumerate(team_url_map.keys()):\n",
    "    try:\n",
    "        url = team_url_map[team]\n",
    "        data = pd.read_html(url, attrs={\"id\": \"stats_standard_9\"})[0]\n",
    "\n",
    "        # Handle multi-level columns\n",
    "        if isinstance(data.columns, pd.MultiIndex):\n",
    "            data.columns = data.columns.get_level_values(-1)\n",
    "\n",
    "        # Drop duplicated columns\n",
    "        data = data.loc[:, ~data.columns.duplicated()]\n",
    "\n",
    "        # Remove rows like 'Squad Total', 'Opponent Total'\n",
    "        data = data[~data[\"Player\"].str.contains(\"Total\", na=False)]\n",
    "\n",
    "        # Keep only valid numeric values\n",
    "        data = data[pd.to_numeric(data[\"Gls\"], errors=\"coerce\").notna()]\n",
    "        data[\"Gls\"] = data[\"Gls\"].astype(float)\n",
    "        data[\"Ast\"] = data[\"Ast\"].astype(float)\n",
    "\n",
    "        # Extract top scorer and assister\n",
    "        top_goalscorer = data.sort_values(by=\"Gls\", ascending=False).iloc[0][\"Player\"]\n",
    "        top_goals = data.sort_values(by=\"Gls\", ascending=False).iloc[0][\"Gls\"]\n",
    "        top_assister = data.sort_values(by=\"Ast\", ascending=False).iloc[0][\"Player\"]\n",
    "        top_assists = data.sort_values(by=\"Ast\", ascending=False).iloc[0][\"Ast\"]\n",
    "\n",
    "        # Add to result dataframe\n",
    "        df.at[idx, \"Team\"] = team\n",
    "        df.at[idx, \"Top Goalscorer\"] = top_goalscorer\n",
    "        df.at[idx, \"Goals\"] = top_goals\n",
    "        df.at[idx, \"Top Assister\"] = top_assister\n",
    "        df.at[idx, \"Assists\"] = top_assists\n",
    "\n",
    "        print(f\"✔ Processed {team}\")\n",
    "        time.sleep(random.uniform(4, 8))  # Pause to avoid getting blocked\n",
    "\n",
    "    except Exception as e:\n",
    "        print(f\"❌ Failed to process {team}: {e}\")\n",
    "\n",
    "# Show results\n",
    "print(\"\\n✅ Final Result:\")\n",
    "print(df.head())"
   ]
  },
  {
   "cell_type": "code",
   "execution_count": null,
   "id": "e1878cd0",
   "metadata": {},
   "outputs": [],
   "source": [
    "df.to_csv(\"../../../data/teams/raw/goals_assists/pl_top_scorers_assisters.csv\", index=False)"
   ]
  }
 ],
 "metadata": {
  "kernelspec": {
   "display_name": "Python 3",
   "language": "python",
   "name": "python3"
  },
  "language_info": {
   "codemirror_mode": {
    "name": "ipython",
    "version": 3
   },
   "file_extension": ".py",
   "mimetype": "text/x-python",
   "name": "python",
   "nbconvert_exporter": "python",
   "pygments_lexer": "ipython3",
   "version": "3.12.1"
  }
 },
 "nbformat": 4,
 "nbformat_minor": 5
}
