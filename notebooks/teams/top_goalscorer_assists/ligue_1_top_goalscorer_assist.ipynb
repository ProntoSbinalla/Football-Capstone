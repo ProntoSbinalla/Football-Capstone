{
 "cells": [
  {
   "cell_type": "markdown",
   "id": "bba82e22",
   "metadata": {},
   "source": [
    "# Ligue 1 Top Goalscorer and Assister"
   ]
  },
  {
   "cell_type": "code",
   "execution_count": 1,
   "id": "f5a23196",
   "metadata": {},
   "outputs": [],
   "source": [
    "import pandas as pd\n",
    "import time\n",
    "import random\n",
    "\n",
    "# Dictionary mapping team names to their FBref squad URLs\n",
    "team_url_map = {\n",
    "    \"Angers SCO\": \"https://fbref.com/en/squads/69236f98/Angers-Stats\",\n",
    "    \"AJ Auxerre\": \"https://fbref.com/en/squads/5ae09109/Auxerre-Stats\",\n",
    "    \"Stade Brestois 29\": \"https://fbref.com/en/squads/fb08dbb3/Brest-Stats\",\n",
    "    \"Le Havre AC\": \"https://fbref.com/en/squads/5c2737db/Le-Havre-Stats\",\n",
    "    \"RC Lens\": \"https://fbref.com/en/squads/fd4e0f7d/Lens-Stats\",\n",
    "    \"LOSC Lille\": \"https://fbref.com/en/squads/cb188c0c/Lille-Stats\",\n",
    "    \"Olympique Lyonnais\": \"https://fbref.com/en/squads/d53c0b06/Lyon-Stats\",\n",
    "    \"Olympique de Marseille\": \"https://fbref.com/en/squads/5725cc7b/Marseille-Stats\",\n",
    "    \"AS Monaco\": \"https://fbref.com/en/squads/fd6114db/Monaco-Stats\",\n",
    "    \"Montpellier HSC\": \"https://fbref.com/en/squads/281b0e73/Montpellier-Stats\",\n",
    "    \"FC Nantes\": \"https://fbref.com/en/squads/d7a486cd/Nantes-Stats\",\n",
    "    \"OGC Nice\": \"https://fbref.com/en/squads/132ebc33/Nice-Stats\",\n",
    "    \"Paris Saint-Germain\": \"https://fbref.com/en/squads/e2d8892c/Paris-Saint-Germain-Stats\",\n",
    "    \"Stade de Reims\": \"https://fbref.com/en/squads/7fdd64e0/Reims-Stats\",\n",
    "    \"Stade Rennais FC\": \"https://fbref.com/en/squads/b3072e00/Rennes-Stats\",\n",
    "    \"AS Saint-Etienne\": \"https://fbref.com/en/squads/d298ef2c/Saint-Etienne-Stats\",\n",
    "    \"RC Strasbourg Alsace\": \"https://fbref.com/en/squads/c0d3eab4/Strasbourg-Stats\",\n",
    "    \"Toulouse FC\": \"https://fbref.com/en/squads/3f8c4b5f/Toulouse-Stats\"\n",
    "}"
   ]
  },
  {
   "cell_type": "code",
   "execution_count": 2,
   "id": "1a34826d",
   "metadata": {},
   "outputs": [
    {
     "name": "stdout",
     "output_type": "stream",
     "text": [
      "✔ Processed Angers SCO\n",
      "✔ Processed AJ Auxerre\n",
      "✔ Processed Stade Brestois 29\n",
      "✔ Processed Le Havre AC\n",
      "✔ Processed RC Lens\n",
      "✔ Processed LOSC Lille\n",
      "✔ Processed Olympique Lyonnais\n",
      "✔ Processed Olympique de Marseille\n",
      "✔ Processed AS Monaco\n",
      "✔ Processed Montpellier HSC\n",
      "✔ Processed FC Nantes\n",
      "✔ Processed OGC Nice\n",
      "✔ Processed Paris Saint-Germain\n",
      "✔ Processed Stade de Reims\n",
      "✔ Processed Stade Rennais FC\n",
      "✔ Processed AS Saint-Etienne\n",
      "✔ Processed RC Strasbourg Alsace\n",
      "✔ Processed Toulouse FC\n",
      "\n",
      "✅ Final Result:\n",
      "                Team   Top Goalscorer Goals          Top Assister Assists\n",
      "0         Angers SCO   Esteban Lepaul   9.0       Lilian Raolisoa     3.0\n",
      "1         AJ Auxerre    Gaëtan Perrin  10.0         Gaëtan Perrin    11.0\n",
      "2  Stade Brestois 29  Ludovic Ajorque  13.0  Mathias Pereira Lage     7.0\n",
      "3        Le Havre AC  Abdoulaye Touré  10.0         Josué Casimir     4.0\n",
      "4            RC Lens  Neil El Aynaoui   8.0      Adrien Thomasson     7.0\n"
     ]
    }
   ],
   "source": [
    "df = pd.DataFrame(columns=[\"Team\", \"Top Goalscorer\", \"Goals\", \"Top Assister\", \"Assists\"])\n",
    "\n",
    "# Loop over each team and scrape data\n",
    "for idx, team in enumerate(team_url_map.keys()):\n",
    "    try:\n",
    "        url = team_url_map[team]\n",
    "        data = pd.read_html(url, attrs={\"id\": \"stats_standard_13\"})[0]\n",
    "\n",
    "        # Handle multi-level columns\n",
    "        if isinstance(data.columns, pd.MultiIndex):\n",
    "            data.columns = data.columns.get_level_values(-1)\n",
    "\n",
    "        # Drop duplicated columns\n",
    "        data = data.loc[:, ~data.columns.duplicated()]\n",
    "\n",
    "        # Remove rows like 'Squad Total', 'Opponent Total'\n",
    "        data = data[~data[\"Player\"].str.contains(\"Total\", na=False)]\n",
    "\n",
    "        # Keep only valid numeric values\n",
    "        data = data[pd.to_numeric(data[\"Gls\"], errors=\"coerce\").notna()]\n",
    "        data[\"Gls\"] = data[\"Gls\"].astype(float)\n",
    "        data[\"Ast\"] = data[\"Ast\"].astype(float)\n",
    "\n",
    "        # Extract top scorer and assister\n",
    "        top_goalscorer = data.sort_values(by=\"Gls\", ascending=False).iloc[0][\"Player\"]\n",
    "        top_goals = data.sort_values(by=\"Gls\", ascending=False).iloc[0][\"Gls\"]\n",
    "        top_assister = data.sort_values(by=\"Ast\", ascending=False).iloc[0][\"Player\"]\n",
    "        top_assists = data.sort_values(by=\"Ast\", ascending=False).iloc[0][\"Ast\"]\n",
    "\n",
    "        # Add to result dataframe\n",
    "        df.at[idx, \"Team\"] = team\n",
    "        df.at[idx, \"Top Goalscorer\"] = top_goalscorer\n",
    "        df.at[idx, \"Goals\"] = top_goals\n",
    "        df.at[idx, \"Top Assister\"] = top_assister\n",
    "        df.at[idx, \"Assists\"] = top_assists\n",
    "\n",
    "        print(f\"✔ Processed {team}\")\n",
    "        time.sleep(random.uniform(4, 8))  # Pause to avoid getting blocked\n",
    "\n",
    "    except Exception as e:\n",
    "        print(f\"❌ Failed to process {team}: {e}\")\n",
    "\n",
    "# Show results\n",
    "print(\"\\n✅ Final Result:\")\n",
    "print(df.head())"
   ]
  },
  {
   "cell_type": "code",
   "execution_count": null,
   "id": "c199f025",
   "metadata": {},
   "outputs": [],
   "source": [
    "df.to_csv(\"../../../data/teams/raw/goals_assists/ligue_1_top_scorers_assisters.csv\", index=False)"
   ]
  }
 ],
 "metadata": {
  "kernelspec": {
   "display_name": "Python 3",
   "language": "python",
   "name": "python3"
  },
  "language_info": {
   "codemirror_mode": {
    "name": "ipython",
    "version": 3
   },
   "file_extension": ".py",
   "mimetype": "text/x-python",
   "name": "python",
   "nbconvert_exporter": "python",
   "pygments_lexer": "ipython3",
   "version": "3.12.1"
  }
 },
 "nbformat": 4,
 "nbformat_minor": 5
}
