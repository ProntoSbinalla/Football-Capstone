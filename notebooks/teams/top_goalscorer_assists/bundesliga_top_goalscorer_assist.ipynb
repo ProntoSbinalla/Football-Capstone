{
 "cells": [
  {
   "cell_type": "markdown",
   "id": "bba82e22",
   "metadata": {},
   "source": [
    "# Bundesliga Top Goalscorer and Assister"
   ]
  },
  {
   "cell_type": "code",
   "execution_count": null,
   "id": "f5a23196",
   "metadata": {},
   "outputs": [],
   "source": [
    "import pandas as pd\n",
    "import time\n",
    "import random\n",
    "\n",
    "# Dictionary mapping team names to their FBref squad URLs\n",
    "team_url_map = {\n",
    "    \"FC Augsburg\": \"https://fbref.com/en/squads/0cdc4311/FC-Augsburg-Stats\",\n",
    "    \"Union Berlin\": \"https://fbref.com/en/squads/7a41008f/Union-Berlin-Stats\",\n",
    "    \"VfL Bochum\": \"https://fbref.com/en/squads/b42c6323/VfL-Bochum-Stats\",\n",
    "    \"Werder Bremen\": \"https://fbref.com/en/squads/62add3bf/Werder-Bremen-Stats\",\n",
    "    \"Borussia Dortmund\": \"https://fbref.com/en/squads/add600ae/Borussia-Dortmund-Stats\",\n",
    "    \"Eintracht Frankfurt\": \"https://fbref.com/en/squads/f0ac8ee6/Eintracht-Frankfurt-Stats\",\n",
    "    \"SC Freiburg\": \"https://fbref.com/en/squads/a486e511/SC-Freiburg-Stats\",\n",
    "    \"1. FC Heidenheim\": \"https://fbref.com/en/squads/18d9d2a7/Heidenheim-Stats\",\n",
    "    \"TSG Hoffenheim\": \"https://fbref.com/en/squads/033ea6b8/TSG-Hoffenheim-Stats\",\n",
    "    \"Holstein Kiel\": \"https://fbref.com/en/squads/2ac661d9/Holstein-Kiel-Stats\",\n",
    "    \"RB Leipzig\": \"https://fbref.com/en/squads/acbb6a5b/RB-Leipzig-Stats\",\n",
    "    \"Bayer Leverkusen\": \"https://fbref.com/en/squads/c7a9f859/Bayer-Leverkusen-Stats\",\n",
    "    \"Mainz 05\": \"https://fbref.com/en/squads/a224b06a/Mainz-Stats\",\n",
    "    \"Borussia Monchengladbach\": \"https://fbref.com/en/squads/32f3ee20/Borussia-Monchengladbach-Stats\",\n",
    "    \"Bayern Munich\": \"https://fbref.com/en/squads/054efa67/Bayern-Munich-Stats\",\n",
    "    \"FC St. Pauli\": \"https://fbref.com/en/squads/54864664/St-Pauli-Stats\",\n",
    "    \"VfB Stuttgart\": \"https://fbref.com/en/squads/598bc722/VfB-Stuttgart-Stats\",\n",
    "    \"VfL Wolfsburg\": \"https://fbref.com/en/squads/4eaa11d7/VfL-Wolfsburg-Stats\"\n",
    "}"
   ]
  },
  {
   "cell_type": "code",
   "execution_count": 2,
   "id": "1a34826d",
   "metadata": {},
   "outputs": [
    {
     "name": "stdout",
     "output_type": "stream",
     "text": [
      "✔ Processed FC Augsburg\n",
      "✔ Processed Union Berlin\n",
      "✔ Processed VfL Bochum\n",
      "✔ Processed Werder Bremen\n",
      "✔ Processed Borussia Dortmund\n",
      "✔ Processed Eintracht Frankfurt\n",
      "✔ Processed SC Freiburg\n",
      "✔ Processed 1. FC Heidenheim\n",
      "✔ Processed TSG Hoffenheim\n",
      "✔ Processed Holstein Kiel\n",
      "✔ Processed RB Leipzig\n",
      "✔ Processed Bayer Leverkusen\n",
      "✔ Processed Mainz 05\n",
      "✔ Processed Borussia Monchengladbach\n",
      "✔ Processed Bayern Munich\n",
      "✔ Processed FC St. Pauli\n",
      "✔ Processed VfB Stuttgart\n",
      "✔ Processed VfL Wolfsburg\n",
      "\n",
      "✅ Final Result:\n",
      "                Team         Top Goalscorer Goals         Top Assister Assists\n",
      "0        FC Augsburg  Alexis Claude-Maurice   9.0   Jeffrey Gouweleeuw     4.0\n",
      "1       Union Berlin    Benedict Hollerbach   9.0  Christopher Trimmel     3.0\n",
      "2         VfL Bochum            Myron Boadu   9.0       Felix Passlack     6.0\n",
      "3      Werder Bremen             Jens Stage  10.0      Mitchell Weiser     9.0\n",
      "4  Borussia Dortmund        Serhou Guirassy  21.0        Julian Brandt    10.0\n"
     ]
    }
   ],
   "source": [
    "df = pd.DataFrame(columns=[\"Team\", \"Top Goalscorer\", \"Goals\", \"Top Assister\", \"Assists\"])\n",
    "\n",
    "# Loop over each team and scrape data\n",
    "for idx, team in enumerate(team_url_map.keys()):\n",
    "    try:\n",
    "        url = team_url_map[team]\n",
    "        data = pd.read_html(url, attrs={\"id\": \"stats_standard_20\"})[0]\n",
    "\n",
    "        # Handle multi-level columns\n",
    "        if isinstance(data.columns, pd.MultiIndex):\n",
    "            data.columns = data.columns.get_level_values(-1)\n",
    "\n",
    "        # Drop duplicated columns\n",
    "        data = data.loc[:, ~data.columns.duplicated()]\n",
    "\n",
    "        # Remove rows like 'Squad Total', 'Opponent Total'\n",
    "        data = data[~data[\"Player\"].str.contains(\"Total\", na=False)]\n",
    "\n",
    "        # Keep only valid numeric values\n",
    "        data = data[pd.to_numeric(data[\"Gls\"], errors=\"coerce\").notna()]\n",
    "        data[\"Gls\"] = data[\"Gls\"].astype(float)\n",
    "        data[\"Ast\"] = data[\"Ast\"].astype(float)\n",
    "\n",
    "        # Extract top scorer and assister\n",
    "        top_goalscorer = data.sort_values(by=\"Gls\", ascending=False).iloc[0][\"Player\"]\n",
    "        top_goals = data.sort_values(by=\"Gls\", ascending=False).iloc[0][\"Gls\"]\n",
    "        top_assister = data.sort_values(by=\"Ast\", ascending=False).iloc[0][\"Player\"]\n",
    "        top_assists = data.sort_values(by=\"Ast\", ascending=False).iloc[0][\"Ast\"]\n",
    "\n",
    "        # Add to result dataframe\n",
    "        df.at[idx, \"Team\"] = team\n",
    "        df.at[idx, \"Top Goalscorer\"] = top_goalscorer\n",
    "        df.at[idx, \"Goals\"] = top_goals\n",
    "        df.at[idx, \"Top Assister\"] = top_assister\n",
    "        df.at[idx, \"Assists\"] = top_assists\n",
    "\n",
    "        print(f\"✔ Processed {team}\")\n",
    "        time.sleep(random.uniform(4, 8))  # Pause to avoid getting blocked\n",
    "\n",
    "    except Exception as e:\n",
    "        print(f\"❌ Failed to process {team}: {e}\")\n",
    "\n",
    "# Show results\n",
    "print(\"\\n✅ Final Result:\")\n",
    "print(df.head())"
   ]
  },
  {
   "cell_type": "code",
   "execution_count": null,
   "id": "0facf260",
   "metadata": {},
   "outputs": [],
   "source": [
    "df.to_csv(\"../../../data/teams/raw/goals_assists/bundesliga_top_scorers_assisters.csv\", index=False)"
   ]
  }
 ],
 "metadata": {
  "kernelspec": {
   "display_name": "Python 3",
   "language": "python",
   "name": "python3"
  },
  "language_info": {
   "codemirror_mode": {
    "name": "ipython",
    "version": 3
   },
   "file_extension": ".py",
   "mimetype": "text/x-python",
   "name": "python",
   "nbconvert_exporter": "python",
   "pygments_lexer": "ipython3",
   "version": "3.12.1"
  }
 },
 "nbformat": 4,
 "nbformat_minor": 5
}
