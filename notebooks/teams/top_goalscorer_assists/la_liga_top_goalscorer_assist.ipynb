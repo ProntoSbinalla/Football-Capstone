{
 "cells": [
  {
   "cell_type": "markdown",
   "id": "bba82e22",
   "metadata": {},
   "source": [
    "# La Liga Top Goalscorer and Assister"
   ]
  },
  {
   "cell_type": "code",
   "execution_count": 1,
   "id": "f5a23196",
   "metadata": {},
   "outputs": [],
   "source": [
    "import pandas as pd\n",
    "import time\n",
    "import random\n",
    "\n",
    "# Dictionary mapping team names to their FBref squad URLs\n",
    "team_url_map = {\n",
    "    \"Alaves\": \"https://fbref.com/en/squads/8d6fd021/Alaves-Stats\",\n",
    "    \"Athletic Bilbao\": \"https://fbref.com/en/squads/2b390eca/Athletic-Club-Stats\",\n",
    "    \"Atletico Madrid\": \"https://fbref.com/en/squads/db3b9613/Atletico-Madrid-Stats\",\n",
    "    \"Barcelona\": \"https://fbref.com/en/squads/206d90db/Barcelona-Stats\",\n",
    "    \"Celta Vigo\": \"https://fbref.com/en/squads/f25da7fb/Celta-Vigo-Stats\",\n",
    "    \"Espanyol\": \"https://fbref.com/en/squads/a8661628/Espanyol-Stats\",\n",
    "    \"Getafe\": \"https://fbref.com/en/squads/7848bd64/Getafe-Stats\",\n",
    "    \"Girona\": \"https://fbref.com/en/squads/9024a00a/Girona-Stats\",\n",
    "    \"Las Palmas\": \"https://fbref.com/en/squads/0049d422/Las-Palmas-Stats\",\n",
    "    \"Leganes\": \"https://fbref.com/en/squads/7c6f2c78/Leganes-Stats\",\n",
    "    \"Mallorca\": \"https://fbref.com/en/squads/2aa12281/Mallorca-Stats\",\n",
    "    \"Osasuna\": \"https://fbref.com/en/squads/03c57e2b/Osasuna-Stats\",\n",
    "    \"Rayo Vallecano\": \"https://fbref.com/en/squads/98e8af82/Rayo-Vallecano-Stats\",\n",
    "    \"Real Betis\": \"https://fbref.com/en/squads/fc536746/Real-Betis-Stats\",\n",
    "    \"Real Madrid\": \"https://fbref.com/en/squads/53a2f082/Real-Madrid-Stats\",\n",
    "    \"Real Sociedad\": \"https://fbref.com/en/squads/e31d1cd9/Real-Sociedad-Stats\",\n",
    "    \"Sevilla\": \"https://fbref.com/en/squads/ad2be733/Sevilla-Stats\",\n",
    "    \"Valencia\": \"https://fbref.com/en/squads/dcc91a7b/Valencia-Stats\",\n",
    "    \"Valladolid\": \"https://fbref.com/en/squads/17859612/Valladolid-Stats\",\n",
    "    \"Villarreal\": \"https://fbref.com/en/squads/2a8183b3/Villarreal-Stats\"\n",
    "}"
   ]
  },
  {
   "cell_type": "code",
   "execution_count": 2,
   "id": "1a34826d",
   "metadata": {},
   "outputs": [
    {
     "name": "stdout",
     "output_type": "stream",
     "text": [
      "✔ Processed Alaves\n",
      "✔ Processed Athletic Bilbao\n",
      "✔ Processed Atletico Madrid\n",
      "✔ Processed Barcelona\n",
      "✔ Processed Celta Vigo\n",
      "✔ Processed Espanyol\n",
      "✔ Processed Getafe\n",
      "✔ Processed Girona\n",
      "✔ Processed Las Palmas\n",
      "✔ Processed Leganes\n",
      "✔ Processed Mallorca\n",
      "✔ Processed Osasuna\n",
      "✔ Processed Rayo Vallecano\n",
      "✔ Processed Real Betis\n",
      "✔ Processed Real Madrid\n",
      "✔ Processed Real Sociedad\n",
      "✔ Processed Sevilla\n",
      "✔ Processed Valencia\n",
      "✔ Processed Valladolid\n",
      "✔ Processed Villarreal\n",
      "\n",
      "✅ Final Result:\n",
      "              Team      Top Goalscorer Goals       Top Assister Assists\n",
      "0           Alaves                Kiké  13.0     Carlos Vicente     5.0\n",
      "1  Athletic Bilbao        Oihan Sancet  15.0     Iñaki Williams     8.0\n",
      "2  Atletico Madrid   Alexander Sørloth  17.0  Antoine Griezmann     7.0\n",
      "3        Barcelona  Robert Lewandowski  25.0       Lamine Yamal    13.0\n",
      "4       Celta Vigo      Borja Iglesias  10.0     Óscar Mingueza     6.0\n"
     ]
    }
   ],
   "source": [
    "df = pd.DataFrame(columns=[\"Team\", \"Top Goalscorer\", \"Goals\", \"Top Assister\", \"Assists\"])\n",
    "\n",
    "# Loop over each team and scrape data\n",
    "for idx, team in enumerate(team_url_map.keys()):\n",
    "    try:\n",
    "        url = team_url_map[team]\n",
    "        data = pd.read_html(url, attrs={\"id\": \"stats_standard_12\"})[0]\n",
    "\n",
    "        # Handle multi-level columns\n",
    "        if isinstance(data.columns, pd.MultiIndex):\n",
    "            data.columns = data.columns.get_level_values(-1)\n",
    "\n",
    "        # Drop duplicated columns\n",
    "        data = data.loc[:, ~data.columns.duplicated()]\n",
    "\n",
    "        # Remove rows like 'Squad Total', 'Opponent Total'\n",
    "        data = data[~data[\"Player\"].str.contains(\"Total\", na=False)]\n",
    "\n",
    "        # Keep only valid numeric values\n",
    "        data = data[pd.to_numeric(data[\"Gls\"], errors=\"coerce\").notna()]\n",
    "        data[\"Gls\"] = data[\"Gls\"].astype(float)\n",
    "        data[\"Ast\"] = data[\"Ast\"].astype(float)\n",
    "\n",
    "        # Extract top scorer and assister\n",
    "        top_goalscorer = data.sort_values(by=\"Gls\", ascending=False).iloc[0][\"Player\"]\n",
    "        top_goals = data.sort_values(by=\"Gls\", ascending=False).iloc[0][\"Gls\"]\n",
    "        top_assister = data.sort_values(by=\"Ast\", ascending=False).iloc[0][\"Player\"]\n",
    "        top_assists = data.sort_values(by=\"Ast\", ascending=False).iloc[0][\"Ast\"]\n",
    "\n",
    "        # Add to result dataframe\n",
    "        df.at[idx, \"Team\"] = team\n",
    "        df.at[idx, \"Top Goalscorer\"] = top_goalscorer\n",
    "        df.at[idx, \"Goals\"] = top_goals\n",
    "        df.at[idx, \"Top Assister\"] = top_assister\n",
    "        df.at[idx, \"Assists\"] = top_assists\n",
    "\n",
    "        print(f\"✔ Processed {team}\")\n",
    "        time.sleep(random.uniform(4, 8))  # Pause to avoid getting blocked\n",
    "\n",
    "    except Exception as e:\n",
    "        print(f\"❌ Failed to process {team}: {e}\")\n",
    "\n",
    "# Show results\n",
    "print(\"\\n✅ Final Result:\")\n",
    "print(df.head())"
   ]
  },
  {
   "cell_type": "code",
   "execution_count": null,
   "id": "650d57f4",
   "metadata": {},
   "outputs": [],
   "source": [
    "df.to_csv(\"../../../data/teams/raw/goals_assists/la_liga_top_scorers_assisters.csv\", index=False)"
   ]
  }
 ],
 "metadata": {
  "kernelspec": {
   "display_name": "Python 3",
   "language": "python",
   "name": "python3"
  },
  "language_info": {
   "codemirror_mode": {
    "name": "ipython",
    "version": 3
   },
   "file_extension": ".py",
   "mimetype": "text/x-python",
   "name": "python",
   "nbconvert_exporter": "python",
   "pygments_lexer": "ipython3",
   "version": "3.12.1"
  }
 },
 "nbformat": 4,
 "nbformat_minor": 5
}
