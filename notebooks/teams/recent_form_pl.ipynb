{
 "cells": [
  {
   "cell_type": "code",
   "execution_count": 1,
   "id": "ff73ec38",
   "metadata": {},
   "outputs": [
    {
     "name": "stdout",
     "output_type": "stream",
     "text": [
      "🔍 Scraping: Arsenal\n"
     ]
    },
    {
     "name": "stderr",
     "output_type": "stream",
     "text": [
      "C:\\Users\\mesha\\AppData\\Local\\Temp\\ipykernel_54296\\3191896503.py:58: FutureWarning: Passing literal html to 'read_html' is deprecated and will be removed in a future version. To read from a literal string, wrap it in a 'StringIO' object.\n",
      "  tables = pd.read_html(res.text)\n"
     ]
    },
    {
     "name": "stdout",
     "output_type": "stream",
     "text": [
      "❌ Failed top scorer/assister for Arsenal: No tables found\n",
      "🔍 Scraping: Aston Villa\n"
     ]
    },
    {
     "name": "stderr",
     "output_type": "stream",
     "text": [
      "C:\\Users\\mesha\\AppData\\Local\\Temp\\ipykernel_54296\\3191896503.py:58: FutureWarning: Passing literal html to 'read_html' is deprecated and will be removed in a future version. To read from a literal string, wrap it in a 'StringIO' object.\n",
      "  tables = pd.read_html(res.text)\n"
     ]
    },
    {
     "name": "stdout",
     "output_type": "stream",
     "text": [
      "❌ Failed top scorer/assister for Aston Villa: No tables found\n",
      "🔍 Scraping: Bournemouth\n"
     ]
    },
    {
     "name": "stderr",
     "output_type": "stream",
     "text": [
      "C:\\Users\\mesha\\AppData\\Local\\Temp\\ipykernel_54296\\3191896503.py:58: FutureWarning: Passing literal html to 'read_html' is deprecated and will be removed in a future version. To read from a literal string, wrap it in a 'StringIO' object.\n",
      "  tables = pd.read_html(res.text)\n"
     ]
    },
    {
     "name": "stdout",
     "output_type": "stream",
     "text": [
      "❌ Failed top scorer/assister for Bournemouth: No tables found\n",
      "🔍 Scraping: Brentford\n"
     ]
    },
    {
     "name": "stderr",
     "output_type": "stream",
     "text": [
      "C:\\Users\\mesha\\AppData\\Local\\Temp\\ipykernel_54296\\3191896503.py:58: FutureWarning: Passing literal html to 'read_html' is deprecated and will be removed in a future version. To read from a literal string, wrap it in a 'StringIO' object.\n",
      "  tables = pd.read_html(res.text)\n"
     ]
    },
    {
     "name": "stdout",
     "output_type": "stream",
     "text": [
      "❌ Failed top scorer/assister for Brentford: No tables found\n",
      "🔍 Scraping: Brighton\n"
     ]
    },
    {
     "name": "stderr",
     "output_type": "stream",
     "text": [
      "C:\\Users\\mesha\\AppData\\Local\\Temp\\ipykernel_54296\\3191896503.py:58: FutureWarning: Passing literal html to 'read_html' is deprecated and will be removed in a future version. To read from a literal string, wrap it in a 'StringIO' object.\n",
      "  tables = pd.read_html(res.text)\n"
     ]
    },
    {
     "name": "stdout",
     "output_type": "stream",
     "text": [
      "❌ Failed top scorer/assister for Brighton: No tables found\n",
      "🔍 Scraping: Chelsea\n"
     ]
    },
    {
     "name": "stderr",
     "output_type": "stream",
     "text": [
      "C:\\Users\\mesha\\AppData\\Local\\Temp\\ipykernel_54296\\3191896503.py:58: FutureWarning: Passing literal html to 'read_html' is deprecated and will be removed in a future version. To read from a literal string, wrap it in a 'StringIO' object.\n",
      "  tables = pd.read_html(res.text)\n"
     ]
    },
    {
     "name": "stdout",
     "output_type": "stream",
     "text": [
      "❌ Failed top scorer/assister for Chelsea: No tables found\n",
      "🔍 Scraping: Crystal Palace\n"
     ]
    },
    {
     "name": "stderr",
     "output_type": "stream",
     "text": [
      "C:\\Users\\mesha\\AppData\\Local\\Temp\\ipykernel_54296\\3191896503.py:58: FutureWarning: Passing literal html to 'read_html' is deprecated and will be removed in a future version. To read from a literal string, wrap it in a 'StringIO' object.\n",
      "  tables = pd.read_html(res.text)\n"
     ]
    },
    {
     "name": "stdout",
     "output_type": "stream",
     "text": [
      "❌ Failed top scorer/assister for Crystal Palace: No tables found\n",
      "🔍 Scraping: Everton\n"
     ]
    },
    {
     "name": "stderr",
     "output_type": "stream",
     "text": [
      "C:\\Users\\mesha\\AppData\\Local\\Temp\\ipykernel_54296\\3191896503.py:58: FutureWarning: Passing literal html to 'read_html' is deprecated and will be removed in a future version. To read from a literal string, wrap it in a 'StringIO' object.\n",
      "  tables = pd.read_html(res.text)\n"
     ]
    },
    {
     "name": "stdout",
     "output_type": "stream",
     "text": [
      "❌ Failed top scorer/assister for Everton: No tables found\n",
      "🔍 Scraping: Fulham\n"
     ]
    },
    {
     "name": "stderr",
     "output_type": "stream",
     "text": [
      "C:\\Users\\mesha\\AppData\\Local\\Temp\\ipykernel_54296\\3191896503.py:58: FutureWarning: Passing literal html to 'read_html' is deprecated and will be removed in a future version. To read from a literal string, wrap it in a 'StringIO' object.\n",
      "  tables = pd.read_html(res.text)\n"
     ]
    },
    {
     "name": "stdout",
     "output_type": "stream",
     "text": [
      "❌ Failed top scorer/assister for Fulham: No tables found\n",
      "🔍 Scraping: Ipswich Town\n"
     ]
    },
    {
     "name": "stderr",
     "output_type": "stream",
     "text": [
      "C:\\Users\\mesha\\AppData\\Local\\Temp\\ipykernel_54296\\3191896503.py:58: FutureWarning: Passing literal html to 'read_html' is deprecated and will be removed in a future version. To read from a literal string, wrap it in a 'StringIO' object.\n",
      "  tables = pd.read_html(res.text)\n"
     ]
    },
    {
     "name": "stdout",
     "output_type": "stream",
     "text": [
      "❌ Failed top scorer/assister for Ipswich Town: No tables found\n",
      "🔍 Scraping: Leicester City\n"
     ]
    },
    {
     "name": "stderr",
     "output_type": "stream",
     "text": [
      "C:\\Users\\mesha\\AppData\\Local\\Temp\\ipykernel_54296\\3191896503.py:58: FutureWarning: Passing literal html to 'read_html' is deprecated and will be removed in a future version. To read from a literal string, wrap it in a 'StringIO' object.\n",
      "  tables = pd.read_html(res.text)\n"
     ]
    },
    {
     "name": "stdout",
     "output_type": "stream",
     "text": [
      "❌ Failed top scorer/assister for Leicester City: No tables found\n",
      "🔍 Scraping: Liverpool\n"
     ]
    },
    {
     "name": "stderr",
     "output_type": "stream",
     "text": [
      "C:\\Users\\mesha\\AppData\\Local\\Temp\\ipykernel_54296\\3191896503.py:58: FutureWarning: Passing literal html to 'read_html' is deprecated and will be removed in a future version. To read from a literal string, wrap it in a 'StringIO' object.\n",
      "  tables = pd.read_html(res.text)\n"
     ]
    },
    {
     "name": "stdout",
     "output_type": "stream",
     "text": [
      "❌ Failed top scorer/assister for Liverpool: No tables found\n",
      "🔍 Scraping: Manchester City\n"
     ]
    },
    {
     "name": "stderr",
     "output_type": "stream",
     "text": [
      "C:\\Users\\mesha\\AppData\\Local\\Temp\\ipykernel_54296\\3191896503.py:58: FutureWarning: Passing literal html to 'read_html' is deprecated and will be removed in a future version. To read from a literal string, wrap it in a 'StringIO' object.\n",
      "  tables = pd.read_html(res.text)\n"
     ]
    },
    {
     "name": "stdout",
     "output_type": "stream",
     "text": [
      "❌ Failed top scorer/assister for Manchester City: No tables found\n",
      "🔍 Scraping: Manchester United\n"
     ]
    },
    {
     "name": "stderr",
     "output_type": "stream",
     "text": [
      "C:\\Users\\mesha\\AppData\\Local\\Temp\\ipykernel_54296\\3191896503.py:58: FutureWarning: Passing literal html to 'read_html' is deprecated and will be removed in a future version. To read from a literal string, wrap it in a 'StringIO' object.\n",
      "  tables = pd.read_html(res.text)\n"
     ]
    },
    {
     "name": "stdout",
     "output_type": "stream",
     "text": [
      "❌ Failed top scorer/assister for Manchester United: No tables found\n",
      "🔍 Scraping: Newcastle Utd\n"
     ]
    },
    {
     "name": "stderr",
     "output_type": "stream",
     "text": [
      "C:\\Users\\mesha\\AppData\\Local\\Temp\\ipykernel_54296\\3191896503.py:58: FutureWarning: Passing literal html to 'read_html' is deprecated and will be removed in a future version. To read from a literal string, wrap it in a 'StringIO' object.\n",
      "  tables = pd.read_html(res.text)\n"
     ]
    },
    {
     "name": "stdout",
     "output_type": "stream",
     "text": [
      "❌ Failed top scorer/assister for Newcastle Utd: No tables found\n",
      "🔍 Scraping: Nottingham Forest\n"
     ]
    },
    {
     "name": "stderr",
     "output_type": "stream",
     "text": [
      "C:\\Users\\mesha\\AppData\\Local\\Temp\\ipykernel_54296\\3191896503.py:58: FutureWarning: Passing literal html to 'read_html' is deprecated and will be removed in a future version. To read from a literal string, wrap it in a 'StringIO' object.\n",
      "  tables = pd.read_html(res.text)\n"
     ]
    },
    {
     "name": "stdout",
     "output_type": "stream",
     "text": [
      "❌ Failed top scorer/assister for Nottingham Forest: No tables found\n",
      "🔍 Scraping: Southampton\n"
     ]
    },
    {
     "name": "stderr",
     "output_type": "stream",
     "text": [
      "C:\\Users\\mesha\\AppData\\Local\\Temp\\ipykernel_54296\\3191896503.py:58: FutureWarning: Passing literal html to 'read_html' is deprecated and will be removed in a future version. To read from a literal string, wrap it in a 'StringIO' object.\n",
      "  tables = pd.read_html(res.text)\n"
     ]
    },
    {
     "name": "stdout",
     "output_type": "stream",
     "text": [
      "❌ Failed top scorer/assister for Southampton: No tables found\n",
      "🔍 Scraping: Tottenham\n"
     ]
    },
    {
     "name": "stderr",
     "output_type": "stream",
     "text": [
      "C:\\Users\\mesha\\AppData\\Local\\Temp\\ipykernel_54296\\3191896503.py:58: FutureWarning: Passing literal html to 'read_html' is deprecated and will be removed in a future version. To read from a literal string, wrap it in a 'StringIO' object.\n",
      "  tables = pd.read_html(res.text)\n"
     ]
    },
    {
     "name": "stdout",
     "output_type": "stream",
     "text": [
      "❌ Failed top scorer/assister for Tottenham: No tables found\n",
      "🔍 Scraping: West Ham\n"
     ]
    },
    {
     "name": "stderr",
     "output_type": "stream",
     "text": [
      "C:\\Users\\mesha\\AppData\\Local\\Temp\\ipykernel_54296\\3191896503.py:58: FutureWarning: Passing literal html to 'read_html' is deprecated and will be removed in a future version. To read from a literal string, wrap it in a 'StringIO' object.\n",
      "  tables = pd.read_html(res.text)\n"
     ]
    },
    {
     "name": "stdout",
     "output_type": "stream",
     "text": [
      "❌ Failed top scorer/assister for West Ham: No tables found\n",
      "🔍 Scraping: Wolves\n"
     ]
    },
    {
     "name": "stderr",
     "output_type": "stream",
     "text": [
      "C:\\Users\\mesha\\AppData\\Local\\Temp\\ipykernel_54296\\3191896503.py:58: FutureWarning: Passing literal html to 'read_html' is deprecated and will be removed in a future version. To read from a literal string, wrap it in a 'StringIO' object.\n",
      "  tables = pd.read_html(res.text)\n"
     ]
    },
    {
     "name": "stdout",
     "output_type": "stream",
     "text": [
      "❌ Failed top scorer/assister for Wolves: No tables found\n"
     ]
    },
    {
     "data": {
      "application/vnd.microsoft.datawrangler.viewer.v0+json": {
       "columns": [
        {
         "name": "index",
         "rawType": "int64",
         "type": "integer"
        },
        {
         "name": "Team",
         "rawType": "object",
         "type": "string"
        },
        {
         "name": "Form",
         "rawType": "object",
         "type": "string"
        },
        {
         "name": "Goals Scored (Last 5)",
         "rawType": "int64",
         "type": "integer"
        },
        {
         "name": "Goals Conceded (Last 5)",
         "rawType": "int64",
         "type": "integer"
        },
        {
         "name": "Goal Difference (Last 5)",
         "rawType": "int64",
         "type": "integer"
        },
        {
         "name": "Top Scorer",
         "rawType": "object",
         "type": "string"
        },
        {
         "name": "Top Assister",
         "rawType": "object",
         "type": "string"
        }
       ],
       "conversionMethod": "pd.DataFrame",
       "ref": "78955996-7091-4ce9-a85b-6ccc3b247173",
       "rows": [
        [
         "0",
         "Arsenal",
         "LLD",
         "4",
         "6",
         "-2",
         "",
         ""
        ],
        [
         "1",
         "Aston Villa",
         "LWW",
         "2",
         "3",
         "-1",
         "",
         ""
        ],
        [
         "2",
         "Bournemouth",
         "DWL",
         "3",
         "3",
         "0",
         "",
         ""
        ],
        [
         "3",
         "Brentford",
         "WWW",
         "7",
         "3",
         "4",
         "",
         ""
        ],
        [
         "4",
         "Brighton",
         "WDW",
         "6",
         "3",
         "3",
         "",
         ""
        ]
       ],
       "shape": {
        "columns": 7,
        "rows": 5
       }
      },
      "text/html": [
       "<div>\n",
       "<style scoped>\n",
       "    .dataframe tbody tr th:only-of-type {\n",
       "        vertical-align: middle;\n",
       "    }\n",
       "\n",
       "    .dataframe tbody tr th {\n",
       "        vertical-align: top;\n",
       "    }\n",
       "\n",
       "    .dataframe thead th {\n",
       "        text-align: right;\n",
       "    }\n",
       "</style>\n",
       "<table border=\"1\" class=\"dataframe\">\n",
       "  <thead>\n",
       "    <tr style=\"text-align: right;\">\n",
       "      <th></th>\n",
       "      <th>Team</th>\n",
       "      <th>Form</th>\n",
       "      <th>Goals Scored (Last 5)</th>\n",
       "      <th>Goals Conceded (Last 5)</th>\n",
       "      <th>Goal Difference (Last 5)</th>\n",
       "      <th>Top Scorer</th>\n",
       "      <th>Top Assister</th>\n",
       "    </tr>\n",
       "  </thead>\n",
       "  <tbody>\n",
       "    <tr>\n",
       "      <th>0</th>\n",
       "      <td>Arsenal</td>\n",
       "      <td>LLD</td>\n",
       "      <td>4</td>\n",
       "      <td>6</td>\n",
       "      <td>-2</td>\n",
       "      <td></td>\n",
       "      <td></td>\n",
       "    </tr>\n",
       "    <tr>\n",
       "      <th>1</th>\n",
       "      <td>Aston Villa</td>\n",
       "      <td>LWW</td>\n",
       "      <td>2</td>\n",
       "      <td>3</td>\n",
       "      <td>-1</td>\n",
       "      <td></td>\n",
       "      <td></td>\n",
       "    </tr>\n",
       "    <tr>\n",
       "      <th>2</th>\n",
       "      <td>Bournemouth</td>\n",
       "      <td>DWL</td>\n",
       "      <td>3</td>\n",
       "      <td>3</td>\n",
       "      <td>0</td>\n",
       "      <td></td>\n",
       "      <td></td>\n",
       "    </tr>\n",
       "    <tr>\n",
       "      <th>3</th>\n",
       "      <td>Brentford</td>\n",
       "      <td>WWW</td>\n",
       "      <td>7</td>\n",
       "      <td>3</td>\n",
       "      <td>4</td>\n",
       "      <td></td>\n",
       "      <td></td>\n",
       "    </tr>\n",
       "    <tr>\n",
       "      <th>4</th>\n",
       "      <td>Brighton</td>\n",
       "      <td>WDW</td>\n",
       "      <td>6</td>\n",
       "      <td>3</td>\n",
       "      <td>3</td>\n",
       "      <td></td>\n",
       "      <td></td>\n",
       "    </tr>\n",
       "  </tbody>\n",
       "</table>\n",
       "</div>"
      ],
      "text/plain": [
       "          Team Form  Goals Scored (Last 5)  Goals Conceded (Last 5)  \\\n",
       "0      Arsenal  LLD                      4                        6   \n",
       "1  Aston Villa  LWW                      2                        3   \n",
       "2  Bournemouth  DWL                      3                        3   \n",
       "3    Brentford  WWW                      7                        3   \n",
       "4     Brighton  WDW                      6                        3   \n",
       "\n",
       "   Goal Difference (Last 5) Top Scorer Top Assister  \n",
       "0                        -2                          \n",
       "1                        -1                          \n",
       "2                         0                          \n",
       "3                         4                          \n",
       "4                         3                          "
      ]
     },
     "execution_count": 1,
     "metadata": {},
     "output_type": "execute_result"
    }
   ],
   "source": [
    "import requests\n",
    "import pandas as pd\n",
    "import time\n",
    "import random\n",
    "\n",
    "TEAM_IDS = {\n",
    "    \"Arsenal\": \"18bb7c10\",\n",
    "    \"Aston Villa\": \"8602292d\",\n",
    "    \"Bournemouth\": \"4ba7cbea\",\n",
    "    \"Brentford\": \"cd051869\",\n",
    "    \"Brighton\": \"d07537b9\",\n",
    "    \"Chelsea\": \"cff3d9bb\",\n",
    "    \"Crystal Palace\": \"47c64c55\",\n",
    "    \"Everton\": \"d3fd31cc\",\n",
    "    \"Fulham\": \"fd962109\",\n",
    "    \"Ipswich Town\": \"b74092de\",\n",
    "    \"Leicester City\": \"a2d435b3\",\n",
    "    \"Liverpool\": \"822bd0ba\",\n",
    "    \"Manchester City\": \"b8fd03ef\",\n",
    "    \"Manchester United\": \"19538871\",\n",
    "    \"Newcastle Utd\": \"b2b47a98\",\n",
    "    \"Nottingham Forest\": \"e4a775cb\",\n",
    "    \"Southampton\": \"33c895d4\",\n",
    "    \"Tottenham\": \"361ca564\",\n",
    "    \"West Ham\": \"7c21e445\",\n",
    "    \"Wolves\": \"8cec06e1\"\n",
    "}\n",
    "\n",
    "HEADERS = {\n",
    "    \"User-Agent\": \"Mozilla/5.0\"\n",
    "}\n",
    "\n",
    "def get_team_form_and_goals(team_name, team_id):\n",
    "    url = f\"https://fbref.com/en/squads/{team_id}/{team_name.replace(' ', '-')}-Match-Logs\"\n",
    "    try:\n",
    "        res = requests.get(url, headers=HEADERS)\n",
    "        time.sleep(random.uniform(4, 10))\n",
    "        table = pd.read_html(res.url, attrs={\"id\": \"matchlogs_for\"})[0]\n",
    "        table = table.tail(5)\n",
    "\n",
    "        # Drop NaNs, convert to strings, keep only valid chars\n",
    "        results = table[\"Result\"].dropna().astype(str).str.strip().str[0]\n",
    "        form = \"\".join(results[results.isin([\"W\", \"D\", \"L\"])].head(5))\n",
    "\n",
    "        goals_scored = pd.to_numeric(table[\"GF\"], errors=\"coerce\").fillna(0).astype(int).sum()\n",
    "        goals_conceded = pd.to_numeric(table[\"GA\"], errors=\"coerce\").fillna(0).astype(int).sum()\n",
    "        goal_difference = goals_scored - goals_conceded\n",
    "        return form, goals_scored, goals_conceded, goal_difference\n",
    "    except Exception as e:\n",
    "        print(f\"❌ Failed form/goals for {team_name}: {e}\")\n",
    "        return \"\", 0, 0, 0\n",
    "\n",
    "def get_top_scorer_and_assister(team_name, team_id):\n",
    "    url = f\"https://fbref.com/en/squads/{team_id}/{team_name.replace(' ', '-')}-Stats\"\n",
    "    try:\n",
    "        res = requests.get(url, headers=HEADERS)\n",
    "        time.sleep(random.uniform(4, 10))\n",
    "        tables = pd.read_html(res.text)\n",
    "\n",
    "        # Find the correct table\n",
    "        df = next((t for t in tables if {\"Player\", \"Gls\", \"Ast\"}.issubset(t.columns)), None)\n",
    "        if df is None:\n",
    "            raise ValueError(\"No valid player stats table found.\")\n",
    "\n",
    "        if \"Pos\" in df.columns:\n",
    "            df = df[df[\"Pos\"] != \"GK\"]\n",
    "\n",
    "        top_scorer = df.sort_values(by=\"Gls\", ascending=False).iloc[0][\"Player\"]\n",
    "        top_assister = df.sort_values(by=\"Ast\", ascending=False).iloc[0][\"Player\"]\n",
    "        return top_scorer, top_assister\n",
    "    except Exception as e:\n",
    "        print(f\"❌ Failed top scorer/assister for {team_name}: {e}\")\n",
    "        return \"\", \"\"\n",
    "\n",
    "# Scrape all teams\n",
    "team_data = []\n",
    "\n",
    "for team, team_id in TEAM_IDS.items():\n",
    "    print(f\"🔍 Scraping: {team}\")\n",
    "    form, scored, conceded, diff = get_team_form_and_goals(team, team_id)\n",
    "    scorer, assister = get_top_scorer_and_assister(team, team_id)\n",
    "    team_data.append({\n",
    "        \"Team\": team,\n",
    "        \"Form\": form,\n",
    "        \"Goals Scored (Last 5)\": scored,\n",
    "        \"Goals Conceded (Last 5)\": conceded,\n",
    "        \"Goal Difference (Last 5)\": diff,\n",
    "        \"Top Scorer\": scorer,\n",
    "        \"Top Assister\": assister\n",
    "    })\n",
    "    time.sleep(random.uniform(4, 10))\n",
    "\n",
    "# Final table\n",
    "final_df = pd.DataFrame(team_data)\n",
    "final_df.head()"
   ]
  },
  {
   "cell_type": "code",
   "execution_count": null,
   "id": "e62d302d",
   "metadata": {},
   "outputs": [],
   "source": [
    "final_df.to_csv(\"pl_recent_form_and_stars.csv\", index=False)\n",
    "print(\"✅ Saved to pl_recent_form_and_stars.csv\")"
   ]
  }
 ],
 "metadata": {
  "kernelspec": {
   "display_name": "Python 3",
   "language": "python",
   "name": "python3"
  },
  "language_info": {
   "codemirror_mode": {
    "name": "ipython",
    "version": 3
   },
   "file_extension": ".py",
   "mimetype": "text/x-python",
   "name": "python",
   "nbconvert_exporter": "python",
   "pygments_lexer": "ipython3",
   "version": "3.12.1"
  }
 },
 "nbformat": 4,
 "nbformat_minor": 5
}
