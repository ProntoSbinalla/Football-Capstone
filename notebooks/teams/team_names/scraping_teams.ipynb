{
 "cells": [
  {
   "cell_type": "markdown",
   "id": "489c3ff7",
   "metadata": {},
   "source": [
    "# Web Scraping through TransferMrkt to Get Team Names"
   ]
  },
  {
   "cell_type": "markdown",
   "id": "0a7c7d44",
   "metadata": {},
   "source": [
    "## Importing Libraries"
   ]
  },
  {
   "cell_type": "code",
   "execution_count": 1,
   "id": "a86ce1ed",
   "metadata": {},
   "outputs": [],
   "source": [
    "from selenium import webdriver\n",
    "from selenium.webdriver.chrome.service import Service\n",
    "from selenium.webdriver.chrome.options import Options\n",
    "from webdriver_manager.chrome import ChromeDriverManager\n",
    "from bs4 import BeautifulSoup\n",
    "import pandas as pd\n",
    "import os\n",
    "import time"
   ]
  },
  {
   "cell_type": "markdown",
   "id": "8192cfc8",
   "metadata": {},
   "source": [
    "## Setup"
   ]
  },
  {
   "cell_type": "code",
   "execution_count": 2,
   "id": "e02e261f",
   "metadata": {},
   "outputs": [],
   "source": [
    "# Setup Selenium\n",
    "options = Options()\n",
    "options.add_argument(\"--headless=new\")\n",
    "options.add_argument(\"--no-sandbox\")\n",
    "options.add_argument(\"--disable-dev-shm-usage\")\n",
    "options.add_argument(\n",
    "    \"user-agent=Mozilla/5.0 (Windows NT 10.0; Win64; x64) \"\n",
    "    \"AppleWebKit/537.36 (KHTML, like Gecko) Chrome/123.0.0.0 Safari/537.36\"\n",
    ")\n",
    "\n",
    "def get_soup(url):\n",
    "    driver = webdriver.Chrome(service=Service(ChromeDriverManager().install()), options=options)\n",
    "    driver.get(url)\n",
    "    time.sleep(5)\n",
    "    html = driver.page_source\n",
    "    driver.quit()\n",
    "    return BeautifulSoup(html, \"html.parser\")\n",
    "\n",
    "# League info: slug and code\n",
    "LEAGUE_INFO = {\n",
    "    \"premier_league\": {\"slug\": \"premier-league\", \"code\": \"GB1\"},\n",
    "    \"serie_a\": {\"slug\": \"serie-a\", \"code\": \"IT1\"},\n",
    "    \"la_liga\": {\"slug\": \"laliga\", \"code\": \"ES1\"},\n",
    "    \"bundesliga\": {\"slug\": \"bundesliga\", \"code\": \"L1\"},\n",
    "    \"ligue_1\": {\"slug\": \"ligue-1\", \"code\": \"FR1\"}\n",
    "}\n",
    "\n",
    "BASE_URL = \"https://www.transfermarkt.com\""
   ]
  },
  {
   "cell_type": "markdown",
   "id": "1961d537",
   "metadata": {},
   "source": [
    "## Scraping"
   ]
  },
  {
   "cell_type": "code",
   "execution_count": null,
   "id": "93768c53",
   "metadata": {},
   "outputs": [
    {
     "name": "stdout",
     "output_type": "stream",
     "text": [
      "\n",
      "=== Scraping clubs for Premier League ===\n",
      "Saved to ../../data/teams/raw/premier_league_teams.csv\n",
      "\n",
      "=== Scraping clubs for Serie A ===\n",
      "Saved to ../../data/teams/raw/serie_a_teams.csv\n",
      "\n",
      "=== Scraping clubs for La Liga ===\n",
      "Saved to ../../data/teams/raw/la_liga_teams.csv\n",
      "\n",
      "=== Scraping clubs for Bundesliga ===\n",
      "Saved to ../../data/teams/raw/bundesliga_teams.csv\n",
      "\n",
      "=== Scraping clubs for Ligue 1 ===\n",
      "Saved to ../../data/teams/raw/ligue_1_teams.csv\n"
     ]
    }
   ],
   "source": [
    "for league_name, info in LEAGUE_INFO.items():\n",
    "    print(f\"\\n=== Scraping clubs for {league_name.replace('_', ' ').title()} ===\")\n",
    "    league_url = f\"{BASE_URL}/{info['slug']}/startseite/wettbewerb/{info['code']}\"\n",
    "    soup = get_soup(league_url)\n",
    "\n",
    "    table = soup.find(\"table\", class_=\"items\")\n",
    "    clubs = []\n",
    "\n",
    "    if table:\n",
    "        for row in table.find_all(\"tr\", class_=[\"odd\", \"even\"]):\n",
    "            name_tag = row.select_one(\"td.hauptlink a\")\n",
    "            if name_tag:\n",
    "                club_name = name_tag.text.strip()\n",
    "                clubs.append({\"Club Name\": club_name})\n",
    "\n",
    "    df = pd.DataFrame(clubs)\n",
    "    df.to_csv(f\"../../../data/teams/raw/{league_name}_teams.csv\", index=False)\n",
    "    print(f\"Saved to ../../../data/teams/raw/{league_name}_teams.csv\")"
   ]
  }
 ],
 "metadata": {
  "kernelspec": {
   "display_name": "Python 3",
   "language": "python",
   "name": "python3"
  },
  "language_info": {
   "codemirror_mode": {
    "name": "ipython",
    "version": 3
   },
   "file_extension": ".py",
   "mimetype": "text/x-python",
   "name": "python",
   "nbconvert_exporter": "python",
   "pygments_lexer": "ipython3",
   "version": "3.12.1"
  }
 },
 "nbformat": 4,
 "nbformat_minor": 5
}
