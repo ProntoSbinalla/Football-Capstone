{
 "cells": [
  {
   "cell_type": "markdown",
   "id": "b88d5c5c",
   "metadata": {},
   "source": [
    "# Ligue 1 Recent Form"
   ]
  },
  {
   "cell_type": "code",
   "execution_count": 1,
   "id": "999acc47",
   "metadata": {},
   "outputs": [],
   "source": [
    "import pandas as pd\n",
    "import time\n",
    "import random\n",
    "\n",
    "# Dictionary mapping team names to their FBref squad URLs\n",
    "team_url_map = {\n",
    "    \"Angers SCO\": \"https://fbref.com/en/squads/69236f98/Angers-Stats\",\n",
    "    \"AJ Auxerre\": \"https://fbref.com/en/squads/5ae09109/Auxerre-Stats\",\n",
    "    \"Stade Brestois 29\": \"https://fbref.com/en/squads/fb08dbb3/Brest-Stats\",\n",
    "    \"Le Havre AC\": \"https://fbref.com/en/squads/5c2737db/Le-Havre-Stats\",\n",
    "    \"RC Lens\": \"https://fbref.com/en/squads/fd4e0f7d/Lens-Stats\",\n",
    "    \"LOSC Lille\": \"https://fbref.com/en/squads/cb188c0c/Lille-Stats\",\n",
    "    \"Olympique Lyonnais\": \"https://fbref.com/en/squads/d53c0b06/Lyon-Stats\",\n",
    "    \"Olympique de Marseille\": \"https://fbref.com/en/squads/5725cc7b/Marseille-Stats\",\n",
    "    \"AS Monaco\": \"https://fbref.com/en/squads/fd6114db/Monaco-Stats\",\n",
    "    \"Montpellier HSC\": \"https://fbref.com/en/squads/281b0e73/Montpellier-Stats\",\n",
    "    \"FC Nantes\": \"https://fbref.com/en/squads/d7a486cd/Nantes-Stats\",\n",
    "    \"OGC Nice\": \"https://fbref.com/en/squads/132ebc33/Nice-Stats\",\n",
    "    \"Paris Saint-Germain\": \"https://fbref.com/en/squads/e2d8892c/Paris-Saint-Germain-Stats\",\n",
    "    \"Stade de Reims\": \"https://fbref.com/en/squads/7fdd64e0/Reims-Stats\",\n",
    "    \"Stade Rennais FC\": \"https://fbref.com/en/squads/b3072e00/Rennes-Stats\",\n",
    "    \"AS Saint-Etienne\": \"https://fbref.com/en/squads/d298ef2c/Saint-Etienne-Stats\",\n",
    "    \"RC Strasbourg Alsace\": \"https://fbref.com/en/squads/c0d3eab4/Strasbourg-Stats\",\n",
    "    \"Toulouse FC\": \"https://fbref.com/en/squads/3f8c4b5f/Toulouse-Stats\"\n",
    "}"
   ]
  },
  {
   "cell_type": "code",
   "execution_count": 2,
   "id": "e811502b",
   "metadata": {},
   "outputs": [
    {
     "name": "stdout",
     "output_type": "stream",
     "text": [
      "✔ Processed Angers SCO - Form: LLLDD\n",
      "✔ Processed AJ Auxerre - Form: WLLLL\n",
      "✔ Processed Stade Brestois 29 - Form: LLWLW\n",
      "✔ Processed Le Havre AC - Form: LWWLL\n",
      "✔ Processed RC Lens - Form: WWWLD\n",
      "✔ Processed LOSC Lille - Form: WDWWW\n",
      "✔ Processed Olympique Lyonnais - Form: LLWDL\n",
      "✔ Processed Olympique de Marseille - Form: WDWWW\n",
      "✔ Processed AS Monaco - Form: WWDWW\n",
      "✔ Processed Montpellier HSC - Form: DLLLW\n",
      "✔ Processed FC Nantes - Form: DWWLD\n",
      "✔ Processed OGC Nice - Form: LDWLW\n",
      "✔ Processed Paris Saint-Germain - Form: WWWWW\n",
      "✔ Processed Stade de Reims - Form: LDWWD\n",
      "✔ Processed Stade Rennais FC - Form: WLLWD\n",
      "✔ Processed AS Saint-Etienne - Form: LLLWL\n",
      "✔ Processed RC Strasbourg Alsace - Form: DWLDD\n",
      "✔ Processed Toulouse FC - Form: DDLWL\n",
      "\n",
      "✅ Final Result:\n",
      "                Team Recent Form\n",
      "0         Angers SCO       LLLDD\n",
      "1         AJ Auxerre       WLLLL\n",
      "2  Stade Brestois 29       LLWLW\n",
      "3        Le Havre AC       LWWLL\n",
      "4            RC Lens       WWWLD\n"
     ]
    }
   ],
   "source": [
    "df = pd.DataFrame(columns=[\"Team\", \"Recent Form\"])\n",
    "\n",
    "for idx, (team, url) in enumerate(team_url_map.items()):\n",
    "    try:\n",
    "        # Read the match logs table (no filtering by competition)\n",
    "        tables = pd.read_html(url, attrs={\"id\": \"matchlogs_for\"})\n",
    "        matchlogs = tables[0]\n",
    "\n",
    "        # Flatten multi-index if it exists\n",
    "        if isinstance(matchlogs.columns, pd.MultiIndex):\n",
    "            matchlogs.columns = matchlogs.columns.get_level_values(-1)\n",
    "\n",
    "        # Remove rows with no result (i.e., future games)\n",
    "        matchlogs = matchlogs.dropna(subset=[\"Result\"])\n",
    "\n",
    "        # Get the last 5 results\n",
    "        recent_results = matchlogs.head(5)[\"Result\"].tolist()\n",
    "\n",
    "        # Join the results into a single string\n",
    "        form_str = \"\".join(recent_results)\n",
    "\n",
    "        df.at[idx, \"Team\"] = team\n",
    "        df.at[idx, \"Recent Form\"] = form_str\n",
    "\n",
    "        print(f\"✔ Processed {team} - Form: {form_str}\")\n",
    "        time.sleep(random.uniform(4, 8))\n",
    "\n",
    "    except Exception as e:\n",
    "        print(f\"❌ Failed to process {team}: {e}\")\n",
    "\n",
    "\n",
    "# Show results\n",
    "print(\"\\n✅ Final Result:\")\n",
    "print(df.head())"
   ]
  },
  {
   "cell_type": "code",
   "execution_count": 4,
   "id": "21a9a265",
   "metadata": {},
   "outputs": [],
   "source": [
    "df.to_csv(\"../../../data/teams/raw/recent_form/ligue_1_recent_form.csv\", index=False)"
   ]
  }
 ],
 "metadata": {
  "kernelspec": {
   "display_name": "Python 3",
   "language": "python",
   "name": "python3"
  },
  "language_info": {
   "codemirror_mode": {
    "name": "ipython",
    "version": 3
   },
   "file_extension": ".py",
   "mimetype": "text/x-python",
   "name": "python",
   "nbconvert_exporter": "python",
   "pygments_lexer": "ipython3",
   "version": "3.12.1"
  }
 },
 "nbformat": 4,
 "nbformat_minor": 5
}
