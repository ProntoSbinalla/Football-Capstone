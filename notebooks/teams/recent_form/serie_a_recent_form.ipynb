{
 "cells": [
  {
   "cell_type": "markdown",
   "id": "aa5ac174",
   "metadata": {},
   "source": [
    "# Serie A Recent Form"
   ]
  },
  {
   "cell_type": "code",
   "execution_count": 1,
   "id": "1e7b21f4",
   "metadata": {},
   "outputs": [],
   "source": [
    "import pandas as pd\n",
    "import time\n",
    "import random\n",
    "\n",
    "# Dictionary mapping team names to their FBref squad URLs\n",
    "team_url_map = {\n",
    "    \"Atalanta\": \"https://fbref.com/en/squads/922493f3/Atalanta-Stats\",\n",
    "    \"Bologna\": \"https://fbref.com/en/squads/1d8099f8/Bologna-Stats\",\n",
    "    \"Cagliari\": \"https://fbref.com/en/squads/c4260e09/Cagliari-Stats\",\n",
    "    \"Como\": \"https://fbref.com/en/squads/28c9c3cd/Como-Stats\",\n",
    "    \"Empoli\": \"https://fbref.com/en/squads/a3d88bd8/Empoli-Stats\",\n",
    "    \"Fiorentina\": \"https://fbref.com/en/squads/421387cf/Fiorentina-Stats\",\n",
    "    \"Genoa\": \"https://fbref.com/en/squads/658bf2de/Genoa-Stats\",\n",
    "    \"Hellas Verona\": \"https://fbref.com/en/squads/0e72edf2/Hellas-Verona-Stats\",\n",
    "    \"Inter Milan\": \"https://fbref.com/en/squads/d609edc0/Internazionale-Stats\",\n",
    "    \"Juventus\": \"https://fbref.com/en/squads/e0652b02/Juventus-Stats\",\n",
    "    \"Lazio\": \"https://fbref.com/en/squads/7213da33/Lazio-Stats\",\n",
    "    \"Lecce\": \"https://fbref.com/en/squads/ffcbe334/Lecce-Stats\",\n",
    "    \"AC Milan\": \"https://fbref.com/en/squads/dc56fe14/AC-Milan-Stats\",\n",
    "    \"Monza\": \"https://fbref.com/en/squads/21680aa4/Monza-Stats\",\n",
    "    \"Napoli\": \"https://fbref.com/en/squads/d48ad4ff/Napoli-Stats\",\n",
    "    \"Parma\": \"https://fbref.com/en/squads/eab4234c/Parma-Stats\",\n",
    "    \"Roma\": \"https://fbref.com/en/squads/cf74a709/Roma-Stats\",\n",
    "    \"Torino\": \"https://fbref.com/en/squads/105360fe/Torino-Stats\",\n",
    "    \"Udinese\": \"https://fbref.com/en/squads/04eea015/Udinese-Stats\",\n",
    "    \"Venezia\": \"https://fbref.com/en/squads/af5d5982/Venezia-Stats\"\n",
    "}"
   ]
  },
  {
   "cell_type": "code",
   "execution_count": 2,
   "id": "4f3bf6d3",
   "metadata": {},
   "outputs": [
    {
     "name": "stdout",
     "output_type": "stream",
     "text": [
      "✔ Processed Atalanta - Form: LWLLW\n",
      "✔ Processed Bologna - Form: DLDDD\n",
      "✔ Processed Cagliari - Form: WDDLL\n",
      "✔ Processed Como - Form: DLDLD\n",
      "✔ Processed Empoli - Form: WDWDD\n",
      "✔ Processed Fiorentina - Form: DDDDD\n",
      "✔ Processed Genoa - Form: WDWLD\n",
      "✔ Processed Hellas Verona - Form: LWLWL\n",
      "✔ Processed Inter Milan - Form: DWWDD\n",
      "✔ Processed Juventus - Form: WWDDW\n",
      "✔ Processed Lazio - Form: WLDWL\n",
      "✔ Processed Lecce - Form: WLLWD\n",
      "✔ Processed AC Milan - Form: DLDWL\n",
      "✔ Processed Monza - Form: DDLDD\n",
      "✔ Processed Napoli - Form: DLWWW\n",
      "✔ Processed Parma - Form: LDWLL\n",
      "✔ Processed Roma - Form: DLDDW\n",
      "✔ Processed Torino - Form: WDWWD\n",
      "✔ Processed Udinese - Form: WDWWW\n",
      "✔ Processed Venezia - Form: LLDLL\n",
      "\n",
      "✅ Final Result:\n",
      "       Team Recent Form\n",
      "0  Atalanta       LWLLW\n",
      "1   Bologna       DLDDD\n",
      "2  Cagliari       WDDLL\n",
      "3      Como       DLDLD\n",
      "4    Empoli       WDWDD\n"
     ]
    }
   ],
   "source": [
    "df = pd.DataFrame(columns=[\"Team\", \"Recent Form\"])\n",
    "\n",
    "for idx, (team, url) in enumerate(team_url_map.items()):\n",
    "    try:\n",
    "        # Read the match logs table (no filtering by competition)\n",
    "        tables = pd.read_html(url, attrs={\"id\": \"matchlogs_for\"})\n",
    "        matchlogs = tables[0]\n",
    "\n",
    "        # Flatten multi-index if it exists\n",
    "        if isinstance(matchlogs.columns, pd.MultiIndex):\n",
    "            matchlogs.columns = matchlogs.columns.get_level_values(-1)\n",
    "\n",
    "        # Remove rows with no result (i.e., future games)\n",
    "        matchlogs = matchlogs.dropna(subset=[\"Result\"])\n",
    "\n",
    "        # Get the last 5 results\n",
    "        recent_results = matchlogs.head(5)[\"Result\"].tolist()\n",
    "\n",
    "        # Join the results into a single string\n",
    "        form_str = \"\".join(recent_results)\n",
    "\n",
    "        df.at[idx, \"Team\"] = team\n",
    "        df.at[idx, \"Recent Form\"] = form_str\n",
    "\n",
    "        print(f\"✔ Processed {team} - Form: {form_str}\")\n",
    "        time.sleep(random.uniform(4, 8))\n",
    "\n",
    "    except Exception as e:\n",
    "        print(f\"❌ Failed to process {team}: {e}\")\n",
    "\n",
    "\n",
    "# Show results\n",
    "print(\"\\n✅ Final Result:\")\n",
    "print(df.head())"
   ]
  },
  {
   "cell_type": "code",
   "execution_count": 3,
   "id": "4f104553",
   "metadata": {},
   "outputs": [],
   "source": [
    "df.to_csv(\"../../../data/teams/raw/recent_form/serie_a_recent_form.csv\", index=False)"
   ]
  }
 ],
 "metadata": {
  "kernelspec": {
   "display_name": "Python 3",
   "language": "python",
   "name": "python3"
  },
  "language_info": {
   "codemirror_mode": {
    "name": "ipython",
    "version": 3
   },
   "file_extension": ".py",
   "mimetype": "text/x-python",
   "name": "python",
   "nbconvert_exporter": "python",
   "pygments_lexer": "ipython3",
   "version": "3.12.1"
  }
 },
 "nbformat": 4,
 "nbformat_minor": 5
}
