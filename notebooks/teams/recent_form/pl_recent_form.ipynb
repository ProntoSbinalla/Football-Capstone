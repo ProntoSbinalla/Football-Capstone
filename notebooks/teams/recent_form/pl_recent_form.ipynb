{
 "cells": [
  {
   "cell_type": "markdown",
   "id": "1a3e2a6a",
   "metadata": {},
   "source": [
    "# PL Recent Form"
   ]
  },
  {
   "cell_type": "code",
   "execution_count": 2,
   "id": "50f78652",
   "metadata": {},
   "outputs": [],
   "source": [
    "import pandas as pd\n",
    "import time\n",
    "import random\n",
    "\n",
    "# Dictionary mapping team names to their FBref squad URLs\n",
    "team_url_map = {\n",
    "    \"Arsenal\": \"https://fbref.com/en/squads/18bb7c10/Arsenal-Stats\",\n",
    "    \"Aston Villa\": \"https://fbref.com/en/squads/8602292d/Aston-Villa-Stats\",\n",
    "    \"Bournemouth\": \"https://fbref.com/en/squads/4ba7cbea/Bournemouth-Stats\",\n",
    "    \"Brentford\": \"https://fbref.com/en/squads/cd051869/Brentford-Stats\",\n",
    "    \"Brighton & Hove Albion\": \"https://fbref.com/en/squads/d07537b9/Brighton-and-Hove-Albion-Stats\",\n",
    "    \"Chelsea\": \"https://fbref.com/en/squads/cff3d9bb/Chelsea-Stats\",\n",
    "    \"Crystal Palace\": \"https://fbref.com/en/squads/47c64c55/Crystal-Palace-Stats\",\n",
    "    \"Everton\": \"https://fbref.com/en/squads/d3fd31cc/Everton-Stats\",\n",
    "    \"Fulham\": \"https://fbref.com/en/squads/fd962109/Fulham-Stats\",\n",
    "    \"Ipswich Town\": \"https://fbref.com/en/squads/b74092de/Ipswich-Town-Stats\",\n",
    "    \"Leicester City\": \"https://fbref.com/en/squads/a2d435b3/Leicester-City-Stats\",\n",
    "    \"Liverpool\": \"https://fbref.com/en/squads/822bd0ba/Liverpool-Stats\",\n",
    "    \"Manchester City\": \"https://fbref.com/en/squads/b8fd03ef/Manchester-City-Stats\",\n",
    "    \"Manchester United\": \"https://fbref.com/en/squads/19538871/Manchester-United-Stats\",\n",
    "    \"Newcastle United\": \"https://fbref.com/en/squads/b2b47a98/Newcastle-United-Stats\",\n",
    "    \"Nottingham Forest\": \"https://fbref.com/en/squads/e4a775cb/Nottingham-Forest-Stats\",\n",
    "    \"Southampton\": \"https://fbref.com/en/squads/33c895d4/Southampton-Stats\",\n",
    "    \"Tottenham Hotspur\": \"https://fbref.com/en/squads/361ca564/Tottenham-Hotspur-Stats\",\n",
    "    \"West Ham United\": \"https://fbref.com/en/squads/7c21e445/West-Ham-United-Stats\",\n",
    "    \"Wolverhampton Wanderers\": \"https://fbref.com/en/squads/8cec06e1/Wolverhampton-Wanderers-Stats\"\n",
    "}"
   ]
  },
  {
   "cell_type": "code",
   "execution_count": 3,
   "id": "93ad7cc2",
   "metadata": {},
   "outputs": [
    {
     "name": "stdout",
     "output_type": "stream",
     "text": [
      "✔ Processed Arsenal - Form: WWDWD\n",
      "✔ Processed Aston Villa - Form: WLWWW\n",
      "✔ Processed Bournemouth - Form: DDLWL\n",
      "✔ Processed Brentford - Form: WLWWL\n",
      "✔ Processed Brighton & Hove Albion - Form: WWWDD\n",
      "✔ Processed Chelsea - Form: LWWLD\n",
      "✔ Processed Crystal Palace - Form: LLWDD\n",
      "✔ Processed Everton - Form: LLWLL\n",
      "✔ Processed Fulham - Form: LWWDD\n",
      "✔ Processed Ipswich Town - Form: LLDDD\n",
      "✔ Processed Leicester City - Form: DLWLD\n",
      "✔ Processed Liverpool - Form: WWWLW\n",
      "✔ Processed Manchester City - Form: DWWWW\n",
      "✔ Processed Manchester United - Form: DWLLW\n",
      "✔ Processed Newcastle United - Form: WDDWW\n",
      "✔ Processed Nottingham Forest - Form: DWDDW\n",
      "✔ Processed Southampton - Form: LLWLL\n",
      "✔ Processed Tottenham Hotspur - Form: DWLLW\n",
      "✔ Processed West Ham United - Form: LWWLD\n",
      "✔ Processed Wolverhampton Wanderers - Form: LLWDL\n",
      "\n",
      "✅ Final Result:\n",
      "                     Team Recent Form\n",
      "0                 Arsenal       WWDWD\n",
      "1             Aston Villa       WLWWW\n",
      "2             Bournemouth       DDLWL\n",
      "3               Brentford       WLWWL\n",
      "4  Brighton & Hove Albion       WWWDD\n"
     ]
    }
   ],
   "source": [
    "df = pd.DataFrame(columns=[\"Team\", \"Recent Form\"])\n",
    "\n",
    "for idx, (team, url) in enumerate(team_url_map.items()):\n",
    "    try:\n",
    "        # Read the match logs table (no filtering by competition)\n",
    "        tables = pd.read_html(url, attrs={\"id\": \"matchlogs_for\"})\n",
    "        matchlogs = tables[0]\n",
    "\n",
    "        # Flatten multi-index if it exists\n",
    "        if isinstance(matchlogs.columns, pd.MultiIndex):\n",
    "            matchlogs.columns = matchlogs.columns.get_level_values(-1)\n",
    "\n",
    "        # Remove rows with no result (i.e., future games)\n",
    "        matchlogs = matchlogs.dropna(subset=[\"Result\"])\n",
    "\n",
    "        # Get the last 5 results\n",
    "        recent_results = matchlogs.head(5)[\"Result\"].tolist()\n",
    "\n",
    "        # Join the results into a single string\n",
    "        form_str = \"\".join(recent_results)\n",
    "\n",
    "        df.at[idx, \"Team\"] = team\n",
    "        df.at[idx, \"Recent Form\"] = form_str\n",
    "\n",
    "        print(f\"✔ Processed {team} - Form: {form_str}\")\n",
    "        time.sleep(random.uniform(4, 8))\n",
    "\n",
    "    except Exception as e:\n",
    "        print(f\"❌ Failed to process {team}: {e}\")\n",
    "\n",
    "\n",
    "# Show results\n",
    "print(\"\\n✅ Final Result:\")\n",
    "print(df.head())"
   ]
  },
  {
   "cell_type": "code",
   "execution_count": 4,
   "id": "5b7ae5fd",
   "metadata": {},
   "outputs": [],
   "source": [
    "df.to_csv(\"../../../data/teams/raw/recent_form/pl_recent_form.csv\", index=False)"
   ]
  }
 ],
 "metadata": {
  "kernelspec": {
   "display_name": "Python 3",
   "language": "python",
   "name": "python3"
  },
  "language_info": {
   "codemirror_mode": {
    "name": "ipython",
    "version": 3
   },
   "file_extension": ".py",
   "mimetype": "text/x-python",
   "name": "python",
   "nbconvert_exporter": "python",
   "pygments_lexer": "ipython3",
   "version": "3.12.1"
  }
 },
 "nbformat": 4,
 "nbformat_minor": 5
}
