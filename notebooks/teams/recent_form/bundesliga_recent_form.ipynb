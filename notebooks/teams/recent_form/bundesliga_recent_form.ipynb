{
 "cells": [
  {
   "cell_type": "markdown",
   "id": "ee17098a",
   "metadata": {},
   "source": [
    "# Bundesliga Recent Form"
   ]
  },
  {
   "cell_type": "code",
   "execution_count": 1,
   "id": "93c859c8",
   "metadata": {},
   "outputs": [],
   "source": [
    "import pandas as pd\n",
    "import time\n",
    "import random\n",
    "\n",
    "# Dictionary mapping team names to their FBref squad URLs\n",
    "team_url_map = {\n",
    "    \"FC Augsburg\": \"https://fbref.com/en/squads/0cdc4311/FC-Augsburg-Stats\",\n",
    "    \"Union Berlin\": \"https://fbref.com/en/squads/7a41008f/Union-Berlin-Stats\",\n",
    "    \"VfL Bochum\": \"https://fbref.com/en/squads/b42c6323/VfL-Bochum-Stats\",\n",
    "    \"Werder Bremen\": \"https://fbref.com/en/squads/62add3bf/Werder-Bremen-Stats\",\n",
    "    \"Borussia Dortmund\": \"https://fbref.com/en/squads/add600ae/Borussia-Dortmund-Stats\",\n",
    "    \"Eintracht Frankfurt\": \"https://fbref.com/en/squads/f0ac8ee6/Eintracht-Frankfurt-Stats\",\n",
    "    \"SC Freiburg\": \"https://fbref.com/en/squads/a486e511/SC-Freiburg-Stats\",\n",
    "    \"1. FC Heidenheim\": \"https://fbref.com/en/squads/18d9d2a7/Heidenheim-Stats\",\n",
    "    \"TSG Hoffenheim\": \"https://fbref.com/en/squads/033ea6b8/TSG-Hoffenheim-Stats\",\n",
    "    \"Holstein Kiel\": \"https://fbref.com/en/squads/2ac661d9/Holstein-Kiel-Stats\",\n",
    "    \"RB Leipzig\": \"https://fbref.com/en/squads/acbb6a5b/RB-Leipzig-Stats\",\n",
    "    \"Bayer Leverkusen\": \"https://fbref.com/en/squads/c7a9f859/Bayer-Leverkusen-Stats\",\n",
    "    \"Mainz 05\": \"https://fbref.com/en/squads/a224b06a/Mainz-Stats\",\n",
    "    \"Borussia Monchengladbach\": \"https://fbref.com/en/squads/32f3ee20/Borussia-Monchengladbach-Stats\",\n",
    "    \"Bayern Munich\": \"https://fbref.com/en/squads/054efa67/Bayern-Munich-Stats\",\n",
    "    \"FC St. Pauli\": \"https://fbref.com/en/squads/54864664/St-Pauli-Stats\",\n",
    "    \"VfB Stuttgart\": \"https://fbref.com/en/squads/598bc722/VfB-Stuttgart-Stats\",\n",
    "    \"VfL Wolfsburg\": \"https://fbref.com/en/squads/4eaa11d7/VfL-Wolfsburg-Stats\"\n",
    "}"
   ]
  },
  {
   "cell_type": "code",
   "execution_count": 2,
   "id": "2460da2b",
   "metadata": {},
   "outputs": [
    {
     "name": "stdout",
     "output_type": "stream",
     "text": [
      "✔ Processed FC Augsburg - Form: WDLWL\n",
      "✔ Processed Union Berlin - Form: WDWDW\n",
      "✔ Processed VfL Bochum - Form: LLLLD\n",
      "✔ Processed Werder Bremen - Form: WDDWL\n",
      "✔ Processed Borussia Dortmund - Form: WWDWW\n",
      "✔ Processed Eintracht Frankfurt - Form: WLWWW\n",
      "✔ Processed SC Freiburg - Form: WWLWW\n",
      "✔ Processed 1. FC Heidenheim - Form: WWWWW\n",
      "✔ Processed TSG Hoffenheim - Form: DWLLL\n",
      "✔ Processed Holstein Kiel - Form: WLLLD\n",
      "✔ Processed RB Leipzig - Form: WWWDL\n",
      "✔ Processed Bayer Leverkusen - Form: DWWLW\n",
      "✔ Processed Mainz 05 - Form: WDDLW\n",
      "✔ Processed Borussia Monchengladbach - Form: WLWLL\n",
      "✔ Processed Bayern Munich - Form: WWWWW\n",
      "✔ Processed FC St. Pauli - Form: WLLLD\n",
      "✔ Processed VfB Stuttgart - Form: DLWDW\n",
      "✔ Processed VfL Wolfsburg - Form: WLWLL\n",
      "\n",
      "✅ Final Result:\n",
      "                Team Recent Form\n",
      "0        FC Augsburg       WDLWL\n",
      "1       Union Berlin       WDWDW\n",
      "2         VfL Bochum       LLLLD\n",
      "3      Werder Bremen       WDDWL\n",
      "4  Borussia Dortmund       WWDWW\n"
     ]
    }
   ],
   "source": [
    "df = pd.DataFrame(columns=[\"Team\", \"Recent Form\"])\n",
    "\n",
    "for idx, (team, url) in enumerate(team_url_map.items()):\n",
    "    try:\n",
    "        # Read the match logs table (no filtering by competition)\n",
    "        tables = pd.read_html(url, attrs={\"id\": \"matchlogs_for\"})\n",
    "        matchlogs = tables[0]\n",
    "\n",
    "        # Flatten multi-index if it exists\n",
    "        if isinstance(matchlogs.columns, pd.MultiIndex):\n",
    "            matchlogs.columns = matchlogs.columns.get_level_values(-1)\n",
    "\n",
    "        # Remove rows with no result (i.e., future games)\n",
    "        matchlogs = matchlogs.dropna(subset=[\"Result\"])\n",
    "\n",
    "        # Get the last 5 results\n",
    "        recent_results = matchlogs.head(5)[\"Result\"].tolist()\n",
    "\n",
    "        # Join the results into a single string\n",
    "        form_str = \"\".join(recent_results)\n",
    "\n",
    "        df.at[idx, \"Team\"] = team\n",
    "        df.at[idx, \"Recent Form\"] = form_str\n",
    "\n",
    "        print(f\"✔ Processed {team} - Form: {form_str}\")\n",
    "        time.sleep(random.uniform(4, 8))\n",
    "\n",
    "    except Exception as e:\n",
    "        print(f\"❌ Failed to process {team}: {e}\")\n",
    "\n",
    "\n",
    "# Show results\n",
    "print(\"\\n✅ Final Result:\")\n",
    "print(df.head())"
   ]
  },
  {
   "cell_type": "code",
   "execution_count": 3,
   "id": "249d4cbf",
   "metadata": {},
   "outputs": [],
   "source": [
    "df.to_csv(\"../../../data/teams/raw/recent_form/bundesliga_recent_form.csv\", index=False)"
   ]
  }
 ],
 "metadata": {
  "kernelspec": {
   "display_name": "Python 3",
   "language": "python",
   "name": "python3"
  },
  "language_info": {
   "codemirror_mode": {
    "name": "ipython",
    "version": 3
   },
   "file_extension": ".py",
   "mimetype": "text/x-python",
   "name": "python",
   "nbconvert_exporter": "python",
   "pygments_lexer": "ipython3",
   "version": "3.12.1"
  }
 },
 "nbformat": 4,
 "nbformat_minor": 5
}
