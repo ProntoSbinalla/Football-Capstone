{
 "cells": [
  {
   "cell_type": "markdown",
   "id": "073bb39b",
   "metadata": {},
   "source": [
    "# Combining Recent Form into a Single Dataset"
   ]
  },
  {
   "cell_type": "code",
   "execution_count": 1,
   "id": "27e647c1",
   "metadata": {},
   "outputs": [
    {
     "name": "stderr",
     "output_type": "stream",
     "text": [
      "c:\\Users\\mesha\\AppData\\Local\\Programs\\Python\\Python312\\Lib\\site-packages\\fuzzywuzzy\\fuzz.py:11: UserWarning: Using slow pure-python SequenceMatcher. Install python-Levenshtein to remove this warning\n",
      "  warnings.warn('Using slow pure-python SequenceMatcher. Install python-Levenshtein to remove this warning')\n"
     ]
    },
    {
     "name": "stdout",
     "output_type": "stream",
     "text": [
      "           League               Team  MP  GF  GA  GD    xG   xGA   xGD  \\\n",
      "0  Premier League    Manchester City  36  67  43  24  63.6  45.3  18.3   \n",
      "1  Premier League         Arsenal FC  36  66  33  33  57.0  32.3  24.7   \n",
      "2  Premier League       Liverpool FC  36  83  37  46  77.8  34.6  43.2   \n",
      "3  Premier League         Chelsea FC  36  62  43  19  65.9  45.8  20.1   \n",
      "4  Premier League  Tottenham Hotspur  36  63  59   4  56.2  59.7  -3.5   \n",
      "\n",
      "   Shots/90  ...  Tackles Won  Challenges Attempted  Aerial Duel Win %  \\\n",
      "0     15.89  ...          287                   430               48.4   \n",
      "1     14.14  ...          335                   483               50.5   \n",
      "2     16.86  ...          380                   626               52.8   \n",
      "3     15.92  ...          346                   516               51.1   \n",
      "4     13.53  ...          403                   569               49.8   \n",
      "\n",
      "   Most Common Formation                                           Logo URL  \\\n",
      "0                4-2-3-1  https://cdn.ssref.net/nocdn/tlogo/fb/b8fd03ef.png   \n",
      "1               4/3/2003  https://cdn.ssref.net/nocdn/tlogo/fb/18bb7c10.png   \n",
      "2                4-2-3-1  https://cdn.ssref.net/nocdn/tlogo/fb/822bd0ba.png   \n",
      "3                4-2-3-1  https://cdn.ssref.net/nocdn/tlogo/fb/cff3d9bb.png   \n",
      "4               4/3/2003  https://cdn.ssref.net/nocdn/tlogo/fb/361ca564.png   \n",
      "\n",
      "    Top Goalscorer  Goals   Top Assister  Assists  Recent Form  \n",
      "0   Erling Haaland     21          Sávio        8        DWWWW  \n",
      "1      Kai Havertz      9    Bukayo Saka       10        WWDWD  \n",
      "2    Mohamed Salah     28  Mohamed Salah       18        WWWLW  \n",
      "3      Cole Palmer     15    Cole Palmer        8        LWWLD  \n",
      "4  Brennan Johnson     11  Son Heung-min        9        DWLLW  \n",
      "\n",
      "[5 rows x 31 columns]\n"
     ]
    }
   ],
   "source": [
    "import pandas as pd\n",
    "import time\n",
    "import random\n",
    "from fuzzywuzzy import process\n",
    "\n",
    "# === Step 1: Load Base Data ===\n",
    "all_teams_df = pd.read_csv(\"../../../data/teams/cleaned/all_league_teams.csv\")\n",
    "all_teams_df.rename(columns={\"Team Name\": \"Team\"}, inplace=True)\n",
    "\n",
    "all_teams_df = all_teams_df.loc[:, ~all_teams_df.columns.str.contains(\"Recent Form\", case=False)]\n",
    "\n",
    "# === Step 2: Load All Recent Form Files ===\n",
    "form_files = [\n",
    "    \"../../../data/teams/raw/recent_form/bundesliga_recent_form.csv\",\n",
    "    \"../../../data/teams/raw/recent_form/la_liga_recent_form.csv\",\n",
    "    \"../../../data/teams/raw/recent_form/ligue_1_recent_form.csv\",\n",
    "    \"../../../data/teams/raw/recent_form/pl_recent_form.csv\",\n",
    "    \"../../../data/teams/raw/recent_form/serie_a_recent_form.csv\"\n",
    "]\n",
    "recent_form_df = pd.concat([pd.read_csv(file) for file in form_files], ignore_index=True)\n",
    "\n",
    "# === Step 3: Fuzzy Match Team Names ===\n",
    "team_names_all = all_teams_df['Team'].unique()\n",
    "\n",
    "# Map each team in the recent form data to the closest match in the main dataset\n",
    "recent_form_df['Matched Team'] = recent_form_df['Team'].apply(\n",
    "    lambda x: process.extractOne(x, team_names_all)[0]\n",
    ")\n",
    "\n",
    "# === Step 4: Merge DataFrames Using Matched Team Names ===\n",
    "merged_df = pd.merge(\n",
    "    all_teams_df,\n",
    "    recent_form_df[['Matched Team', 'Recent Form']],\n",
    "    left_on='Team',\n",
    "    right_on='Matched Team',\n",
    "    how='left'\n",
    ")\n",
    "\n",
    "# Clean up\n",
    "merged_df.drop(columns=['Matched Team'], inplace=True)\n",
    "\n",
    "print(merged_df.head())"
   ]
  },
  {
   "cell_type": "code",
   "execution_count": 2,
   "id": "2ad705bd",
   "metadata": {},
   "outputs": [],
   "source": [
    "# === Step 5: (Optional) Save or Display ===\n",
    "merged_df.to_csv(\"../../../data/teams/cleaned/all_league_teams.csv\", index=False)"
   ]
  }
 ],
 "metadata": {
  "kernelspec": {
   "display_name": "Python 3",
   "language": "python",
   "name": "python3"
  },
  "language_info": {
   "codemirror_mode": {
    "name": "ipython",
    "version": 3
   },
   "file_extension": ".py",
   "mimetype": "text/x-python",
   "name": "python",
   "nbconvert_exporter": "python",
   "pygments_lexer": "ipython3",
   "version": "3.12.1"
  }
 },
 "nbformat": 4,
 "nbformat_minor": 5
}
