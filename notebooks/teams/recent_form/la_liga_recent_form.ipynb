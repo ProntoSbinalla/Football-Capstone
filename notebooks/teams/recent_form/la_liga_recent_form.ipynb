{
 "cells": [
  {
   "cell_type": "markdown",
   "id": "0fc3ac31",
   "metadata": {},
   "source": [
    "# La Liga Recent Form"
   ]
  },
  {
   "cell_type": "code",
   "execution_count": 1,
   "id": "3a5994d3",
   "metadata": {},
   "outputs": [],
   "source": [
    "import pandas as pd\n",
    "import time\n",
    "import random\n",
    "\n",
    "# Dictionary mapping team names to their FBref squad URLs\n",
    "team_url_map = {\n",
    "    \"Alaves\": \"https://fbref.com/en/squads/8d6fd021/Alaves-Stats\",\n",
    "    \"Athletic Bilbao\": \"https://fbref.com/en/squads/2b390eca/Athletic-Club-Stats\",\n",
    "    \"Atletico Madrid\": \"https://fbref.com/en/squads/db3b9613/Atletico-Madrid-Stats\",\n",
    "    \"Barcelona\": \"https://fbref.com/en/squads/206d90db/Barcelona-Stats\",\n",
    "    \"Celta Vigo\": \"https://fbref.com/en/squads/f25da7fb/Celta-Vigo-Stats\",\n",
    "    \"Espanyol\": \"https://fbref.com/en/squads/a8661628/Espanyol-Stats\",\n",
    "    \"Getafe\": \"https://fbref.com/en/squads/7848bd64/Getafe-Stats\",\n",
    "    \"Girona\": \"https://fbref.com/en/squads/9024a00a/Girona-Stats\",\n",
    "    \"Las Palmas\": \"https://fbref.com/en/squads/0049d422/Las-Palmas-Stats\",\n",
    "    \"Leganes\": \"https://fbref.com/en/squads/7c6f2c78/Leganes-Stats\",\n",
    "    \"Mallorca\": \"https://fbref.com/en/squads/2aa12281/Mallorca-Stats\",\n",
    "    \"Osasuna\": \"https://fbref.com/en/squads/03c57e2b/Osasuna-Stats\",\n",
    "    \"Rayo Vallecano\": \"https://fbref.com/en/squads/98e8af82/Rayo-Vallecano-Stats\",\n",
    "    \"Real Betis\": \"https://fbref.com/en/squads/fc536746/Real-Betis-Stats\",\n",
    "    \"Real Madrid\": \"https://fbref.com/en/squads/53a2f082/Real-Madrid-Stats\",\n",
    "    \"Real Sociedad\": \"https://fbref.com/en/squads/e31d1cd9/Real-Sociedad-Stats\",\n",
    "    \"Sevilla\": \"https://fbref.com/en/squads/ad2be733/Sevilla-Stats\",\n",
    "    \"Valencia\": \"https://fbref.com/en/squads/dcc91a7b/Valencia-Stats\",\n",
    "    \"Valladolid\": \"https://fbref.com/en/squads/17859612/Valladolid-Stats\",\n",
    "    \"Villarreal\": \"https://fbref.com/en/squads/2a8183b3/Villarreal-Stats\"\n",
    "}"
   ]
  },
  {
   "cell_type": "code",
   "execution_count": 2,
   "id": "a8fd624b",
   "metadata": {},
   "outputs": [
    {
     "name": "stdout",
     "output_type": "stream",
     "text": [
      "✔ Processed Alaves - Form: LDWWL\n",
      "✔ Processed Athletic Bilbao - Form: DLWLW\n",
      "✔ Processed Atletico Madrid - Form: DWDWW\n",
      "✔ Processed Barcelona - Form: WWWWW\n",
      "✔ Processed Celta Vigo - Form: WWLLW\n",
      "✔ Processed Espanyol - Form: LLDWW\n",
      "✔ Processed Getafe - Form: DDDLL\n",
      "✔ Processed Girona - Form: DLWWL\n",
      "✔ Processed Las Palmas - Form: DLDLL\n",
      "✔ Processed Leganes - Form: DWDLL\n",
      "✔ Processed Mallorca - Form: DLDWL\n",
      "✔ Processed Osasuna - Form: DWLWL\n",
      "✔ Processed Rayo Vallecano - Form: WDLLW\n",
      "✔ Processed Real Betis - Form: DWDWL\n",
      "✔ Processed Real Madrid - Form: WDWDW\n",
      "✔ Processed Real Sociedad - Form: LWLDL\n",
      "✔ Processed Sevilla - Form: DLDLW\n",
      "✔ Processed Valencia - Form: LLLDL\n",
      "✔ Processed Valladolid - Form: WLDLL\n",
      "✔ Processed Villarreal - Form: DWWDW\n",
      "\n",
      "✅ Final Result:\n",
      "              Team Recent Form\n",
      "0           Alaves       LDWWL\n",
      "1  Athletic Bilbao       DLWLW\n",
      "2  Atletico Madrid       DWDWW\n",
      "3        Barcelona       WWWWW\n",
      "4       Celta Vigo       WWLLW\n"
     ]
    }
   ],
   "source": [
    "df = pd.DataFrame(columns=[\"Team\", \"Recent Form\"])\n",
    "\n",
    "for idx, (team, url) in enumerate(team_url_map.items()):\n",
    "    try:\n",
    "        # Read the match logs table (no filtering by competition)\n",
    "        tables = pd.read_html(url, attrs={\"id\": \"matchlogs_for\"})\n",
    "        matchlogs = tables[0]\n",
    "\n",
    "        # Flatten multi-index if it exists\n",
    "        if isinstance(matchlogs.columns, pd.MultiIndex):\n",
    "            matchlogs.columns = matchlogs.columns.get_level_values(-1)\n",
    "\n",
    "        # Remove rows with no result (i.e., future games)\n",
    "        matchlogs = matchlogs.dropna(subset=[\"Result\"])\n",
    "\n",
    "        # Get the last 5 results\n",
    "        recent_results = matchlogs.head(5)[\"Result\"].tolist()\n",
    "\n",
    "        # Join the results into a single string\n",
    "        form_str = \"\".join(recent_results)\n",
    "\n",
    "        df.at[idx, \"Team\"] = team\n",
    "        df.at[idx, \"Recent Form\"] = form_str\n",
    "\n",
    "        print(f\"✔ Processed {team} - Form: {form_str}\")\n",
    "        time.sleep(random.uniform(4, 8))\n",
    "\n",
    "    except Exception as e:\n",
    "        print(f\"❌ Failed to process {team}: {e}\")\n",
    "\n",
    "\n",
    "# Show results\n",
    "print(\"\\n✅ Final Result:\")\n",
    "print(df.head())"
   ]
  },
  {
   "cell_type": "code",
   "execution_count": 3,
   "id": "7c94b2ec",
   "metadata": {},
   "outputs": [],
   "source": [
    "df.to_csv(\"../../../data/teams/raw/recent_form/la_liga_recent_form.csv\", index=False)"
   ]
  }
 ],
 "metadata": {
  "kernelspec": {
   "display_name": "Python 3",
   "language": "python",
   "name": "python3"
  },
  "language_info": {
   "codemirror_mode": {
    "name": "ipython",
    "version": 3
   },
   "file_extension": ".py",
   "mimetype": "text/x-python",
   "name": "python",
   "nbconvert_exporter": "python",
   "pygments_lexer": "ipython3",
   "version": "3.12.1"
  }
 },
 "nbformat": 4,
 "nbformat_minor": 5
}
