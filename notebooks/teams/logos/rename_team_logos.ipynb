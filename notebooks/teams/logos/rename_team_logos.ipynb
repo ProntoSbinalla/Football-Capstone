{
 "cells": [
  {
   "cell_type": "markdown",
   "id": "87ff650e",
   "metadata": {},
   "source": [
    "# Renaming Team Logos to Use in Tableau"
   ]
  },
  {
   "cell_type": "code",
   "execution_count": 2,
   "id": "5c87130f",
   "metadata": {},
   "outputs": [
    {
     "name": "stdout",
     "output_type": "stream",
     "text": [
      "🛠️ Manually Renamed: Mainz_05.png → 1_FSV_Mainz_05.png\n",
      "🛠️ Manually Renamed: St_Pauli.png → FC_St_Pauli.png\n",
      "🛠️ Manually Renamed: Union_Berlin.png → 1_FC_Union_Berlin.png\n",
      "🛠️ Manually Renamed: Werder_Bremen.png → SV_Werder_Bremen.png\n",
      "🛠️ Manually Renamed: Celta_Vigo.png → Celta_de_Vigo.png\n",
      "🛠️ Manually Renamed: Las_Palmas.png → UD_Las_Palmas.png\n",
      "🛠️ Manually Renamed: Le_Havre.png → Le_Havre_AC.png\n",
      "🛠️ Manually Renamed: Rennes.png → Stade_Rennais_FC.png\n",
      "🛠️ Manually Renamed: Saint-Étienne.png → AS_Saint_Etienne.png\n"
     ]
    }
   ],
   "source": [
    "import os\n",
    "import pandas as pd\n",
    "import unicodedata\n",
    "import re\n",
    "from rapidfuzz import process\n",
    "\n",
    "# === CONFIGURATION ===\n",
    "SOURCE_DIR = \"../../../visuals/logos\"  # Root directory with league subfolders\n",
    "TEAM_CSV = \"../../../data/teams/cleaned/all_league_teams.xlsx\"  # Your team list file\n",
    "\n",
    "# === HELPER FUNCTION ===\n",
    "def normalize_filename(name):\n",
    "    name = unicodedata.normalize(\"NFD\", name).encode(\"ascii\", \"ignore\").decode(\"utf-8\")\n",
    "    name = re.sub(r\"[^\\w]+\", \"_\", name).strip(\"_\")\n",
    "    return name + \".png\"\n",
    "\n",
    "# === STEP 1: Load official team names from Excel ===\n",
    "df = pd.read_excel(TEAM_CSV)\n",
    "official_teams = df[\"Team Name\"].dropna().unique().tolist()\n",
    "\n",
    "# Build official filename map\n",
    "normalized_map = {normalize_filename(name).lower(): name for name in official_teams}\n",
    "official_files = {name: normalize_filename(name) for name in official_teams}\n",
    "\n",
    "# === Manual Rename Dictionary ===\n",
    "manual_renames = {\n",
    "    \"Mainz_05.png\": \"1_FSV_Mainz_05.png\",\n",
    "    \"St_Pauli.png\": \"FC_St_Pauli.png\",\n",
    "    \"Union_Berlin.png\": \"1_FC_Union_Berlin.png\",\n",
    "    \"Werder_Bremen.png\": \"SV_Werder_Bremen.png\",\n",
    "    \"Celta_Vigo.png\": \"Celta_de_Vigo.png\",\n",
    "    \"Las_Palmas.png\": \"UD_Las_Palmas.png\",\n",
    "    \"Le_Havre.png\": \"Le_Havre_AC.png\",\n",
    "    \"Rennes.png\": \"Stade_Rennais_FC.png\",\n",
    "    \"Saint-Étienne.png\": \"AS_Saint_Etienne.png\"\n",
    "}\n",
    "\n",
    "# === STEP 2: Traverse files and rename ===\n",
    "renamed_files = []\n",
    "\n",
    "for league_folder in os.listdir(SOURCE_DIR):\n",
    "    league_path = os.path.join(SOURCE_DIR, league_folder)\n",
    "    if not os.path.isdir(league_path):\n",
    "        continue\n",
    "\n",
    "    for file in os.listdir(league_path):\n",
    "        if not file.lower().endswith(\".png\"):\n",
    "            continue\n",
    "\n",
    "        file_path = os.path.join(league_path, file)\n",
    "        name_without_ext = os.path.splitext(file)[0]\n",
    "\n",
    "        # --- Try fuzzy match ---\n",
    "        best_match, score, _ = process.extractOne(name_without_ext, official_teams)\n",
    "\n",
    "        if score >= 85:\n",
    "            new_filename = official_files[best_match]\n",
    "            new_path = os.path.join(league_path, new_filename)\n",
    "\n",
    "            if file_path != new_path:\n",
    "                os.rename(file_path, new_path)\n",
    "                renamed_files.append((file, new_filename, league_folder))\n",
    "                print(f\"✅ Renamed: {file} → {new_filename}\")\n",
    "\n",
    "        else:\n",
    "            # --- Try manual fallback ---\n",
    "            if file in manual_renames:\n",
    "                new_filename = manual_renames[file]\n",
    "                new_path = os.path.join(league_path, new_filename)\n",
    "\n",
    "                if file_path != new_path:\n",
    "                    os.rename(file_path, new_path)\n",
    "                    renamed_files.append((file, new_filename, league_folder))\n",
    "                    print(f\"🛠️ Manually Renamed: {file} → {new_filename}\")\n",
    "            else:\n",
    "                print(f\"❌ No good match for: {file}\")"
   ]
  }
 ],
 "metadata": {
  "kernelspec": {
   "display_name": "Python 3",
   "language": "python",
   "name": "python3"
  },
  "language_info": {
   "codemirror_mode": {
    "name": "ipython",
    "version": 3
   },
   "file_extension": ".py",
   "mimetype": "text/x-python",
   "name": "python",
   "nbconvert_exporter": "python",
   "pygments_lexer": "ipython3",
   "version": "3.12.1"
  }
 },
 "nbformat": 4,
 "nbformat_minor": 5
}
