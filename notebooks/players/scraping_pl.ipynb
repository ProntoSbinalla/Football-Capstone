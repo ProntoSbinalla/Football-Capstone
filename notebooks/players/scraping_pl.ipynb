{
 "cells": [
  {
   "cell_type": "markdown",
   "id": "c0454aa6",
   "metadata": {},
   "source": [
    "# Web Scraping through TransferMarkt for Premier League Players"
   ]
  },
  {
   "cell_type": "markdown",
   "id": "d8b4d803",
   "metadata": {},
   "source": [
    "## Importing Libraries"
   ]
  },
  {
   "cell_type": "code",
   "execution_count": 1,
   "id": "b8b868b5",
   "metadata": {},
   "outputs": [],
   "source": [
    "from selenium import webdriver\n",
    "from selenium.webdriver.chrome.service import Service\n",
    "from selenium.webdriver.chrome.options import Options\n",
    "from webdriver_manager.chrome import ChromeDriverManager\n",
    "from bs4 import BeautifulSoup\n",
    "import pandas as pd\n",
    "import time\n",
    "import os\n",
    "import random"
   ]
  },
  {
   "cell_type": "markdown",
   "id": "bc007627",
   "metadata": {},
   "source": [
    "## Setup"
   ]
  },
  {
   "cell_type": "code",
   "execution_count": 2,
   "id": "225a7953",
   "metadata": {},
   "outputs": [],
   "source": [
    "def get_soup_with_selenium(url):\n",
    "    options = Options()\n",
    "    options.add_argument(\"--headless=new\")\n",
    "    options.add_argument(\"--no-sandbox\")\n",
    "    options.add_argument(\"--disable-dev-shm-usage\")\n",
    "    options.add_argument(\n",
    "        \"user-agent=Mozilla/5.0 (Windows NT 10.0; Win64; x64) \"\n",
    "        \"AppleWebKit/537.36 (KHTML, like Gecko) \"\n",
    "        \"Chrome/123.0.0.0 Safari/537.36\"\n",
    "    )\n",
    "    driver = webdriver.Chrome(service=Service(ChromeDriverManager().install()), options=options)\n",
    "\n",
    "    try:\n",
    "        driver.get(url)\n",
    "        time.sleep(5)\n",
    "        html = driver.page_source\n",
    "    except Exception as e:\n",
    "        print(f\"⚠️ Failed to fetch {url}: {e}\")\n",
    "        html = \"\"\n",
    "    finally:\n",
    "        driver.quit()\n",
    "\n",
    "    return BeautifulSoup(html, \"html.parser\")\n",
    "\n",
    "BASE_URL = \"https://www.transfermarkt.com\"\n",
    "LEAGUE_URL = f\"{BASE_URL}/premier-league/startseite/wettbewerb/GB1\""
   ]
  },
  {
   "cell_type": "markdown",
   "id": "a96ce6b5",
   "metadata": {},
   "source": [
    "## Scraping"
   ]
  },
  {
   "cell_type": "markdown",
   "id": "cdf96af0",
   "metadata": {},
   "source": [
    "### Getting all PL Clubs URL"
   ]
  },
  {
   "cell_type": "code",
   "execution_count": 3,
   "id": "57b03935",
   "metadata": {},
   "outputs": [],
   "source": [
    "def get_club_links():\n",
    "    soup = get_soup_with_selenium(LEAGUE_URL)\n",
    "    table = soup.find(\"table\", class_=\"items\")\n",
    "    club_links = []\n",
    "    if table:\n",
    "        for link in table.select(\"td.hauptlink a[href*='/startseite/verein']\"):\n",
    "            href = link.get(\"href\")\n",
    "            if href:\n",
    "                club_url = BASE_URL + href.replace(\"startseite\", \"kader\")\n",
    "                club_links.append(club_url)\n",
    "    return list(set(club_links))"
   ]
  },
  {
   "cell_type": "markdown",
   "id": "34c27450",
   "metadata": {},
   "source": [
    "### Extracting Player Data from the Club's Squad Page"
   ]
  },
  {
   "cell_type": "code",
   "execution_count": 4,
   "id": "f8a27081",
   "metadata": {},
   "outputs": [],
   "source": [
    "def get_players_from_club(club_url):\n",
    "    attempts = 3\n",
    "    for i in range(attempts):\n",
    "        soup = get_soup_with_selenium(club_url)\n",
    "        table = soup.find(\"table\", class_=\"items\")\n",
    "        if table:\n",
    "            break\n",
    "        else:\n",
    "            print(f\"⚠️ Attempt {i+1}/{attempts} failed at {club_url}, retrying...\")\n",
    "            time.sleep(5)\n",
    "    else:\n",
    "        print(f\"❌ No player table found at {club_url} (503 Service Unavailable)\")\n",
    "        return []\n",
    "\n",
    "    players = []\n",
    "    club_name_tag = soup.select_one(\"h1\")\n",
    "    club_name = club_name_tag.text.strip() if club_name_tag else \"N/A\"\n",
    "\n",
    "    for row in table.select(\"tbody > tr.odd, tbody > tr.even\"):\n",
    "        try:\n",
    "            name_tag = row.select_one(\"td.posrela table.inline-table tr td.hauptlink a\")\n",
    "            name = name_tag.text.strip().replace(\",\", \"\") if name_tag else \"N/A\"\n",
    "\n",
    "            age = row.select_one(\"td.zentriert:nth-of-type(3)\")\n",
    "            age = age.text.strip().replace(\",\", \"\") if age else \"N/A\"\n",
    "\n",
    "            nationality_imgs = row.select(\"td.zentriert:nth-of-type(4) img\")\n",
    "            nationality = \" / \".join([img.get(\"title\", \"\") for img in nationality_imgs])\n",
    "\n",
    "            position_tag = row.select_one(\"td.posrela table.inline-table tr:nth-of-type(2) td\")\n",
    "            position = position_tag.text.strip().replace(\",\", \"\") if position_tag else \"N/A\"\n",
    "\n",
    "            market_value_tag = row.select_one(\"td.rechts.hauptlink\")\n",
    "            market_value = market_value_tag.text.strip().replace(\",\", \"\") if market_value_tag else \"N/A\"\n",
    "\n",
    "            players.append({\n",
    "                \"Name\": name,\n",
    "                \"Age\": age,\n",
    "                \"Position\": position,\n",
    "                \"Nationality\": nationality,\n",
    "                \"Market Value\": market_value,\n",
    "                \"Club Name\": club_name,\n",
    "            })\n",
    "        except Exception as e:\n",
    "            print(f\"⚠️ Error parsing row: {e}\")\n",
    "            continue\n",
    "\n",
    "    return players"
   ]
  },
  {
   "cell_type": "markdown",
   "id": "10abdc46",
   "metadata": {},
   "source": [
    "### Looping Through All Clubs to Collect Player Data"
   ]
  },
  {
   "cell_type": "code",
   "execution_count": 5,
   "id": "36fe40f7",
   "metadata": {},
   "outputs": [],
   "source": [
    "def scrape_premier_league_players():\n",
    "    all_players = []\n",
    "    club_links = get_club_links()\n",
    "    print(f\"Found {len(club_links)} clubs.\")\n",
    "\n",
    "    for idx, club_url in enumerate(club_links):\n",
    "        print(f\"Scraping club {idx+1}/{len(club_links)}: {club_url}\")\n",
    "        players = get_players_from_club(club_url)\n",
    "        all_players.extend(players)\n",
    "        time.sleep(random.uniform(6, 10))  # polite, human-like delay\n",
    "\n",
    "    df = pd.DataFrame(all_players)\n",
    "    df.to_csv(\"../../data/players/raw/premier_league_players.csv\", index=False)\n",
    "    print(\"Saved data to ../../data/players/raw/premier_league_players.csv\")"
   ]
  },
  {
   "cell_type": "markdown",
   "id": "469661e1",
   "metadata": {},
   "source": [
    "## Running Process"
   ]
  },
  {
   "cell_type": "code",
   "execution_count": 6,
   "id": "2890b02c",
   "metadata": {},
   "outputs": [
    {
     "name": "stdout",
     "output_type": "stream",
     "text": [
      "Found 20 clubs.\n",
      "Scraping club 1/20: https://www.transfermarkt.com/nottingham-forest/kader/verein/703/saison_id/2024\n",
      "Scraping club 2/20: https://www.transfermarkt.com/brighton-amp-hove-albion/kader/verein/1237/saison_id/2024\n",
      "Scraping club 3/20: https://www.transfermarkt.com/crystal-palace/kader/verein/873/saison_id/2024\n",
      "Scraping club 4/20: https://www.transfermarkt.com/fc-everton/kader/verein/29/saison_id/2024\n",
      "Scraping club 5/20: https://www.transfermarkt.com/tottenham-hotspur/kader/verein/148/saison_id/2024\n",
      "Scraping club 6/20: https://www.transfermarkt.com/ipswich-town/kader/verein/677/saison_id/2024\n",
      "Scraping club 7/20: https://www.transfermarkt.com/west-ham-united/kader/verein/379/saison_id/2024\n",
      "Scraping club 8/20: https://www.transfermarkt.com/fc-fulham/kader/verein/931/saison_id/2024\n",
      "Scraping club 9/20: https://www.transfermarkt.com/fc-chelsea/kader/verein/631/saison_id/2024\n",
      "Scraping club 10/20: https://www.transfermarkt.com/fc-southampton/kader/verein/180/saison_id/2024\n",
      "Scraping club 11/20: https://www.transfermarkt.com/afc-bournemouth/kader/verein/989/saison_id/2024\n",
      "Scraping club 12/20: https://www.transfermarkt.com/manchester-united/kader/verein/985/saison_id/2024\n",
      "Scraping club 13/20: https://www.transfermarkt.com/fc-liverpool/kader/verein/31/saison_id/2024\n",
      "Scraping club 14/20: https://www.transfermarkt.com/aston-villa/kader/verein/405/saison_id/2024\n",
      "Scraping club 15/20: https://www.transfermarkt.com/fc-arsenal/kader/verein/11/saison_id/2024\n",
      "Scraping club 16/20: https://www.transfermarkt.com/wolverhampton-wanderers/kader/verein/543/saison_id/2024\n",
      "Scraping club 17/20: https://www.transfermarkt.com/newcastle-united/kader/verein/762/saison_id/2024\n",
      "Scraping club 18/20: https://www.transfermarkt.com/fc-brentford/kader/verein/1148/saison_id/2024\n",
      "Scraping club 19/20: https://www.transfermarkt.com/leicester-city/kader/verein/1003/saison_id/2024\n",
      "Scraping club 20/20: https://www.transfermarkt.com/manchester-city/kader/verein/281/saison_id/2024\n",
      "Saved data to ../../data/players/raw/premier_league_players.csv\n"
     ]
    }
   ],
   "source": [
    "scrape_premier_league_players()"
   ]
  }
 ],
 "metadata": {
  "kernelspec": {
   "display_name": "Python 3",
   "language": "python",
   "name": "python3"
  },
  "language_info": {
   "codemirror_mode": {
    "name": "ipython",
    "version": 3
   },
   "file_extension": ".py",
   "mimetype": "text/x-python",
   "name": "python",
   "nbconvert_exporter": "python",
   "pygments_lexer": "ipython3",
   "version": "3.12.1"
  }
 },
 "nbformat": 4,
 "nbformat_minor": 5
}
