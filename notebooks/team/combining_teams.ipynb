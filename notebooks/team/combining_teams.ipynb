{
 "cells": [
  {
   "cell_type": "markdown",
   "id": "9bc63fab",
   "metadata": {},
   "source": [
    "# Combining All Teams into a Single DataFrame"
   ]
  },
  {
   "cell_type": "markdown",
   "id": "63bca97a",
   "metadata": {},
   "source": [
    "## Importing Libraries"
   ]
  },
  {
   "cell_type": "code",
   "execution_count": 1,
   "id": "2e8a9c57",
   "metadata": {},
   "outputs": [],
   "source": [
    "import pandas as pd\n",
    "import os"
   ]
  },
  {
   "cell_type": "markdown",
   "id": "5ea0e549",
   "metadata": {},
   "source": [
    "## Defining Directory and File Names"
   ]
  },
  {
   "cell_type": "code",
   "execution_count": 2,
   "id": "728b51ff",
   "metadata": {},
   "outputs": [],
   "source": [
    "data_dir = \"../../data/teams/raw\"\n",
    "files = [\n",
    "    \"premier_league_teams.csv\",\n",
    "    \"serie_a_teams.csv\",\n",
    "    \"la_liga_teams.csv\",\n",
    "    \"bundesliga_teams.csv\",\n",
    "    \"ligue_1_teams.csv\"\n",
    "]\n",
    "\n",
    "# Assign readable league names\n",
    "league_labels = {\n",
    "    \"premier_league_teams.csv\": \"Premier League\",\n",
    "    \"serie_a_teams.csv\": \"Serie A\",\n",
    "    \"la_liga_teams.csv\": \"La Liga\",\n",
    "    \"bundesliga_teams.csv\": \"Bundesliga\",\n",
    "    \"ligue_1_teams.csv\": \"Ligue 1\"\n",
    "}\n",
    "\n",
    "combined = []"
   ]
  },
  {
   "cell_type": "markdown",
   "id": "ca9c8b11",
   "metadata": {},
   "source": [
    "## Reading and Processing Each File"
   ]
  },
  {
   "cell_type": "code",
   "execution_count": 3,
   "id": "3cd87523",
   "metadata": {},
   "outputs": [],
   "source": [
    "for file in files:\n",
    "    path = os.path.join(data_dir, file)\n",
    "    if os.path.exists(path):\n",
    "        df = pd.read_csv(path)\n",
    "        df[\"League\"] = league_labels[file]\n",
    "        df = df[[\"League\", \"Club Name\"]]\n",
    "        df.columns = [\"League\", \"Team Name\"]\n",
    "        combined.append(df)\n",
    "    else:\n",
    "        print(f\"⚠️ File not found: {file}\")"
   ]
  },
  {
   "cell_type": "markdown",
   "id": "4a7f4d32",
   "metadata": {},
   "source": [
    "## Combining All Files into a Single DataFrame"
   ]
  },
  {
   "cell_type": "code",
   "execution_count": null,
   "id": "efa6faab",
   "metadata": {},
   "outputs": [
    {
     "name": "stdout",
     "output_type": "stream",
     "text": [
      "✅ Saved to 'data/all_league_teams.csv'\n"
     ]
    }
   ],
   "source": [
    "if combined:\n",
    "    final_df = pd.concat(combined, ignore_index=True)\n",
    "    final_df.to_csv(\"../../data/teams/cleaned/all_league_teams.csv\", index=False)\n",
    "    print(\"✅ Saved to '../../data/teams/cleaned/all_league_teams.csv'\")\n",
    "else:\n",
    "    print(\"❌ No team data found to merge.\")"
   ]
  }
 ],
 "metadata": {
  "kernelspec": {
   "display_name": "Python 3",
   "language": "python",
   "name": "python3"
  },
  "language_info": {
   "codemirror_mode": {
    "name": "ipython",
    "version": 3
   },
   "file_extension": ".py",
   "mimetype": "text/x-python",
   "name": "python",
   "nbconvert_exporter": "python",
   "pygments_lexer": "ipython3",
   "version": "3.12.1"
  }
 },
 "nbformat": 4,
 "nbformat_minor": 5
}
