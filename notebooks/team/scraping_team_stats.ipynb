{
 "cells": [
  {
   "cell_type": "markdown",
   "id": "fabcd5be",
   "metadata": {},
   "source": [
    "# Scraping Team Stats from FBRef"
   ]
  },
  {
   "cell_type": "markdown",
   "id": "7f705212",
   "metadata": {},
   "source": [
    "## Importing Libraries"
   ]
  },
  {
   "cell_type": "code",
   "execution_count": 1,
   "id": "6eb494d7",
   "metadata": {},
   "outputs": [],
   "source": [
    "import requests\n",
    "from bs4 import BeautifulSoup\n",
    "import pandas as pd\n",
    "import os\n",
    "import time"
   ]
  },
  {
   "cell_type": "markdown",
   "id": "f57ff18a",
   "metadata": {},
   "source": [
    "## Setup"
   ]
  },
  {
   "cell_type": "code",
   "execution_count": 2,
   "id": "75c2cfb1",
   "metadata": {},
   "outputs": [],
   "source": [
    "# League names mapped to their FBref competition ID\n",
    "FBREF_LEAGUES = {\n",
    "    \"premier_league\": \"9\",\n",
    "    \"serie_a\": \"11\",\n",
    "    \"la_liga\": \"12\",\n",
    "    \"bundesliga\": \"20\",\n",
    "    \"ligue_1\": \"13\"\n",
    "}\n",
    "\n",
    "BASE_URL = \"https://fbref.com\"\n",
    "\n",
    "STATS_PAGE = \"/en/comps/{league_id}/2024-2025/stats/2024-2025-{league_slug}-Stats\"\n",
    "\n",
    "headers = {\n",
    "    \"User-Agent\": \"Mozilla/5.0 (Windows NT 10.0; Win64; x64) AppleWebKit/537.36 (KHTML, like Gecko) Chrome/123.0.0.0 Safari/537.36\"\n",
    "}"
   ]
  },
  {
   "cell_type": "markdown",
   "id": "9d9fe974",
   "metadata": {},
   "source": [
    "## Fetching League Stats"
   ]
  },
  {
   "cell_type": "code",
   "execution_count": 3,
   "id": "2896769a",
   "metadata": {},
   "outputs": [],
   "source": [
    "def fetch_league_stats(league_slug, league_id):\n",
    "    url = BASE_URL + STATS_PAGE.format(league_id=league_id, league_slug=league_slug.replace('_', '-'))\n",
    "    print(f\"Fetching: {url}\")\n",
    "    response = requests.get(url, headers=headers)\n",
    "    time.sleep(3)\n",
    "    soup = BeautifulSoup(response.text, \"html.parser\")\n",
    "\n",
    "    # Try to locate multiple stat tables to extract meaningful data\n",
    "    tables = soup.find_all(\"table\")\n",
    "    combined = pd.DataFrame()\n",
    "\n",
    "    for table in tables:\n",
    "        if not table.get(\"id\"):\n",
    "            continue\n",
    "\n",
    "        df = pd.read_html(str(table))[0]\n",
    "        if \"Squad\" not in df.columns:\n",
    "            continue\n",
    "\n",
    "        df = df.loc[df[\"Squad\"].notna() & (df[\"Squad\"] != \"Squad\")]\n",
    "        df = df.set_index(\"Squad\")\n",
    "\n",
    "        # Avoid duplicate columns\n",
    "        df = df.loc[:, ~df.columns.duplicated()]\n",
    "\n",
    "        if combined.empty:\n",
    "            combined = df\n",
    "        else:\n",
    "            combined = combined.join(df, how=\"outer\", rsuffix=\"_dup\")\n",
    "\n",
    "    combined.reset_index(inplace=True)\n",
    "    combined.insert(0, \"League\", league_slug.replace('_', ' ').title())\n",
    "    return combined"
   ]
  },
  {
   "cell_type": "markdown",
   "id": "6323782d",
   "metadata": {},
   "source": [
    "## Scraping Each League and Saving Stats"
   ]
  },
  {
   "cell_type": "code",
   "execution_count": 4,
   "id": "ae3d7b6d",
   "metadata": {},
   "outputs": [
    {
     "name": "stdout",
     "output_type": "stream",
     "text": [
      "\n",
      "=== Scraping team stats for Premier League ===\n",
      "Fetching: https://fbref.com/en/comps/9/2024-2025/stats/2024-2025-premier-league-Stats\n",
      "Saved to ../../data/teams/raw/team_stats/premier_league_team_stats_2024_25.csv\n",
      "\n",
      "=== Scraping team stats for Serie A ===\n",
      "Fetching: https://fbref.com/en/comps/11/2024-2025/stats/2024-2025-serie-a-Stats\n",
      "Saved to ../../data/teams/raw/team_stats/serie_a_team_stats_2024_25.csv\n",
      "\n",
      "=== Scraping team stats for La Liga ===\n",
      "Fetching: https://fbref.com/en/comps/12/2024-2025/stats/2024-2025-la-liga-Stats\n",
      "Saved to ../../data/teams/raw/team_stats/la_liga_team_stats_2024_25.csv\n",
      "\n",
      "=== Scraping team stats for Bundesliga ===\n",
      "Fetching: https://fbref.com/en/comps/20/2024-2025/stats/2024-2025-bundesliga-Stats\n",
      "Saved to ../../data/teams/raw/team_stats/bundesliga_team_stats_2024_25.csv\n",
      "\n",
      "=== Scraping team stats for Ligue 1 ===\n",
      "Fetching: https://fbref.com/en/comps/13/2024-2025/stats/2024-2025-ligue-1-Stats\n",
      "Saved to ../../data/teams/raw/team_stats/ligue_1_team_stats_2024_25.csv\n"
     ]
    }
   ],
   "source": [
    "for league_slug, league_id in FBREF_LEAGUES.items():\n",
    "    print(f\"\\n=== Scraping team stats for {league_slug.replace('_', ' ').title()} ===\")\n",
    "    df = fetch_league_stats(league_slug, league_id)\n",
    "    df.to_csv(f\"../../data/teams/raw/team_stats/{league_slug}_team_stats_2024_25.csv\", index=False)\n",
    "    print(f\"Saved to ../../data/teams/raw/team_stats/{league_slug}_team_stats_2024_25.csv\")"
   ]
  }
 ],
 "metadata": {
  "kernelspec": {
   "display_name": "Python 3",
   "language": "python",
   "name": "python3"
  },
  "language_info": {
   "codemirror_mode": {
    "name": "ipython",
    "version": 3
   },
   "file_extension": ".py",
   "mimetype": "text/x-python",
   "name": "python",
   "nbconvert_exporter": "python",
   "pygments_lexer": "ipython3",
   "version": "3.12.1"
  }
 },
 "nbformat": 4,
 "nbformat_minor": 5
}
